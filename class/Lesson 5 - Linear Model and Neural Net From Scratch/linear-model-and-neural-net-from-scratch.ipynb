{
 "cells": [
  {
   "cell_type": "markdown",
   "id": "7ab99e1c",
   "metadata": {
    "papermill": {
     "duration": 0.105171,
     "end_time": "2022-09-07T20:37:51.227004",
     "exception": false,
     "start_time": "2022-09-07T20:37:51.121833",
     "status": "completed"
    },
    "tags": []
   },
   "source": [
    "Copied and edited from https://www.kaggle.com/code/jhoward/linear-model-and-neural-net-from-scratch.\n",
    "\n",
    "A fast.ai course taught by Jeremy Howard.\n",
    "\n",
    "Edited for personal learning while going through the course myself.\n",
    "\n",
    "Pairs with class video, [lesson 5](https://www.youtube.com/watch?v=_rXzeWq4C6w&list=PLfYUBJiXbdtSvpQjSnJJ_PmDQB_VyT5iU) from 2022.\n",
    "\n",
    "Goes through tabular data related to the Titanic."
   ]
  },
  {
   "cell_type": "markdown",
   "id": "693423fc",
   "metadata": {
    "papermill": {
     "duration": 0.102029,
     "end_time": "2022-09-07T20:37:51.429328",
     "exception": false,
     "start_time": "2022-09-07T20:37:51.327299",
     "status": "completed"
    },
    "tags": []
   },
   "source": [
    "## Introduction"
   ]
  },
  {
   "cell_type": "markdown",
   "id": "00d31c3c",
   "metadata": {
    "papermill": {
     "duration": 0.100743,
     "end_time": "2022-09-07T20:37:51.636772",
     "exception": false,
     "start_time": "2022-09-07T20:37:51.536029",
     "status": "completed"
    },
    "tags": []
   },
   "source": [
    "In this notebook we're going to build and train a deep learning model \"from scratch\" -- by which I mean that we're not going to use any pre-built architecture, or optimizers, or data loading frameworks, etc.\n",
    "\n",
    "We'll be assuming you already know the basics of how a neural network works. If you don't, read this notebook first: [How does a neural net really work?\n",
    "](https://www.kaggle.com/code/jhoward/how-does-a-neural-net-really-work). We'll be using Kaggle's [Titanic](https://www.kaggle.com/competitions/titanic/) competition in this notebook, because it's very small and simple, but also has displays many of the tricky real-life issues that we need to handle in most practical projects. (Note, however, that this competition is a small \"learner\" competition on Kaggle, so don't expect to actually see much benefits from using a neural net just yet; that will come once we try our some real competitions!)\n",
    "\n",
    "It's great to be able to run the same notebook on your own machine or Colab, as well as Kaggle. To allow for this, we use this code to download the data as needed when not on Kaggle (see [this notebook](https://www.kaggle.com/code/jhoward/getting-started-with-nlp-for-absolute-beginners/) for details about this technique):"
   ]
  },
  {
   "cell_type": "code",
   "execution_count": 1,
   "id": "31b67f5c",
   "metadata": {
    "execution": {
     "iopub.execute_input": "2022-09-07T20:37:51.841154Z",
     "iopub.status.busy": "2022-09-07T20:37:51.840720Z",
     "iopub.status.idle": "2022-09-07T20:37:51.853526Z",
     "shell.execute_reply": "2022-09-07T20:37:51.852826Z"
    },
    "papermill": {
     "duration": 0.116892,
     "end_time": "2022-09-07T20:37:51.855402",
     "exception": false,
     "start_time": "2022-09-07T20:37:51.738510",
     "status": "completed"
    },
    "tags": []
   },
   "outputs": [],
   "source": [
    "import os\n",
    "from pathlib import Path\n",
    "\n",
    "# Kaggle sets an environment variable and we can check for it to know if we're on Kaggle\n",
    "on_kaggle = os.environ.get('KAGGLE_KERNEL_RUN_TYPE', '')\n",
    "# A notebook that's part of the Titanic competition on Kaggle will already have the data\n",
    "# downloaded and unzipped for you\n",
    "if on_kaggle: path = Path('../input/titanic')\n",
    "else:\n",
    "    # Make sure the kaggle pip package is installed\n",
    "    !pip install -Uqq kaggle\n",
    "    path = Path('data')\n",
    "    if not path.exists():\n",
    "        import zipfile,kaggle\n",
    "        kaggle.api.competition_download_cli(str(path))\n",
    "        zipfile.ZipFile(f'{path}.zip').extractall(path)"
   ]
  },
  {
   "cell_type": "markdown",
   "id": "c40b17d2",
   "metadata": {
    "hidden": true,
    "papermill": {
     "duration": 0.102915,
     "end_time": "2022-09-07T20:37:52.062244",
     "exception": false,
     "start_time": "2022-09-07T20:37:51.959329",
     "status": "completed"
    },
    "tags": []
   },
   "source": [
    "Note that the data for Kaggle comps always lives in the `../input` folder. The easiest way to get the path is to click the \"K\" button in the top-right of the Kaggle notebook, click on the folder shown there, and click the copy button.\n",
    "\n",
    "We'll be using *numpy* and *pytorch* for array calculations in this notebook, and *pandas* for working with tabular data, so we'll import them and set them to display using a bit more space than they default to."
   ]
  },
  {
   "cell_type": "code",
   "execution_count": 2,
   "id": "a572d7d9",
   "metadata": {
    "execution": {
     "iopub.execute_input": "2022-09-07T20:37:52.269981Z",
     "iopub.status.busy": "2022-09-07T20:37:52.269692Z",
     "iopub.status.idle": "2022-09-07T20:37:54.137031Z",
     "shell.execute_reply": "2022-09-07T20:37:54.136299Z"
    },
    "papermill": {
     "duration": 1.973548,
     "end_time": "2022-09-07T20:37:54.139154",
     "exception": false,
     "start_time": "2022-09-07T20:37:52.165606",
     "status": "completed"
    },
    "tags": []
   },
   "outputs": [],
   "source": [
    "import torch, numpy as np, pandas as pd\n",
    "np.set_printoptions(linewidth=140)\n",
    "torch.set_printoptions(linewidth=140, sci_mode=False, edgeitems=7)\n",
    "pd.set_option('display.width', 140)"
   ]
  },
  {
   "cell_type": "markdown",
   "id": "e58ef6a0",
   "metadata": {
    "heading_collapsed": true,
    "papermill": {
     "duration": 0.101234,
     "end_time": "2022-09-07T20:37:54.344664",
     "exception": false,
     "start_time": "2022-09-07T20:37:54.243430",
     "status": "completed"
    },
    "tags": []
   },
   "source": [
    "## Cleaning the data"
   ]
  },
  {
   "cell_type": "markdown",
   "id": "b20383ef",
   "metadata": {
    "hidden": true,
    "papermill": {
     "duration": 0.10362,
     "end_time": "2022-09-07T20:37:54.551246",
     "exception": false,
     "start_time": "2022-09-07T20:37:54.447626",
     "status": "completed"
    },
    "tags": []
   },
   "source": [
    "This is a *tabular data* competition -- the data is in the form of a table. It's provided as a Comma Separated Values (CSV) file. We can open it using the *pandas* library, which will create a `DataFrame`."
   ]
  },
  {
   "cell_type": "code",
   "execution_count": 3,
   "id": "dd9f12fd",
   "metadata": {
    "execution": {
     "iopub.execute_input": "2022-09-07T20:37:54.755674Z",
     "iopub.status.busy": "2022-09-07T20:37:54.755405Z",
     "iopub.status.idle": "2022-09-07T20:37:54.810469Z",
     "shell.execute_reply": "2022-09-07T20:37:54.809751Z"
    },
    "hidden": true,
    "papermill": {
     "duration": 0.160326,
     "end_time": "2022-09-07T20:37:54.812804",
     "exception": false,
     "start_time": "2022-09-07T20:37:54.652478",
     "status": "completed"
    },
    "scrolled": true,
    "tags": []
   },
   "outputs": [
    {
     "data": {
      "text/html": [
       "<div>\n",
       "<style scoped>\n",
       "    .dataframe tbody tr th:only-of-type {\n",
       "        vertical-align: middle;\n",
       "    }\n",
       "\n",
       "    .dataframe tbody tr th {\n",
       "        vertical-align: top;\n",
       "    }\n",
       "\n",
       "    .dataframe thead th {\n",
       "        text-align: right;\n",
       "    }\n",
       "</style>\n",
       "<table border=\"1\" class=\"dataframe\">\n",
       "  <thead>\n",
       "    <tr style=\"text-align: right;\">\n",
       "      <th></th>\n",
       "      <th>PassengerId</th>\n",
       "      <th>Survived</th>\n",
       "      <th>Pclass</th>\n",
       "      <th>Name</th>\n",
       "      <th>Sex</th>\n",
       "      <th>Age</th>\n",
       "      <th>SibSp</th>\n",
       "      <th>Parch</th>\n",
       "      <th>Ticket</th>\n",
       "      <th>Fare</th>\n",
       "      <th>Cabin</th>\n",
       "      <th>Embarked</th>\n",
       "    </tr>\n",
       "  </thead>\n",
       "  <tbody>\n",
       "    <tr>\n",
       "      <th>0</th>\n",
       "      <td>1</td>\n",
       "      <td>0</td>\n",
       "      <td>3</td>\n",
       "      <td>Braund, Mr. Owen Harris</td>\n",
       "      <td>male</td>\n",
       "      <td>22.0</td>\n",
       "      <td>1</td>\n",
       "      <td>0</td>\n",
       "      <td>A/5 21171</td>\n",
       "      <td>7.2500</td>\n",
       "      <td>NaN</td>\n",
       "      <td>S</td>\n",
       "    </tr>\n",
       "    <tr>\n",
       "      <th>1</th>\n",
       "      <td>2</td>\n",
       "      <td>1</td>\n",
       "      <td>1</td>\n",
       "      <td>Cumings, Mrs. John Bradley (Florence Briggs Th...</td>\n",
       "      <td>female</td>\n",
       "      <td>38.0</td>\n",
       "      <td>1</td>\n",
       "      <td>0</td>\n",
       "      <td>PC 17599</td>\n",
       "      <td>71.2833</td>\n",
       "      <td>C85</td>\n",
       "      <td>C</td>\n",
       "    </tr>\n",
       "    <tr>\n",
       "      <th>2</th>\n",
       "      <td>3</td>\n",
       "      <td>1</td>\n",
       "      <td>3</td>\n",
       "      <td>Heikkinen, Miss. Laina</td>\n",
       "      <td>female</td>\n",
       "      <td>26.0</td>\n",
       "      <td>0</td>\n",
       "      <td>0</td>\n",
       "      <td>STON/O2. 3101282</td>\n",
       "      <td>7.9250</td>\n",
       "      <td>NaN</td>\n",
       "      <td>S</td>\n",
       "    </tr>\n",
       "    <tr>\n",
       "      <th>3</th>\n",
       "      <td>4</td>\n",
       "      <td>1</td>\n",
       "      <td>1</td>\n",
       "      <td>Futrelle, Mrs. Jacques Heath (Lily May Peel)</td>\n",
       "      <td>female</td>\n",
       "      <td>35.0</td>\n",
       "      <td>1</td>\n",
       "      <td>0</td>\n",
       "      <td>113803</td>\n",
       "      <td>53.1000</td>\n",
       "      <td>C123</td>\n",
       "      <td>S</td>\n",
       "    </tr>\n",
       "    <tr>\n",
       "      <th>4</th>\n",
       "      <td>5</td>\n",
       "      <td>0</td>\n",
       "      <td>3</td>\n",
       "      <td>Allen, Mr. William Henry</td>\n",
       "      <td>male</td>\n",
       "      <td>35.0</td>\n",
       "      <td>0</td>\n",
       "      <td>0</td>\n",
       "      <td>373450</td>\n",
       "      <td>8.0500</td>\n",
       "      <td>NaN</td>\n",
       "      <td>S</td>\n",
       "    </tr>\n",
       "    <tr>\n",
       "      <th>...</th>\n",
       "      <td>...</td>\n",
       "      <td>...</td>\n",
       "      <td>...</td>\n",
       "      <td>...</td>\n",
       "      <td>...</td>\n",
       "      <td>...</td>\n",
       "      <td>...</td>\n",
       "      <td>...</td>\n",
       "      <td>...</td>\n",
       "      <td>...</td>\n",
       "      <td>...</td>\n",
       "      <td>...</td>\n",
       "    </tr>\n",
       "    <tr>\n",
       "      <th>886</th>\n",
       "      <td>887</td>\n",
       "      <td>0</td>\n",
       "      <td>2</td>\n",
       "      <td>Montvila, Rev. Juozas</td>\n",
       "      <td>male</td>\n",
       "      <td>27.0</td>\n",
       "      <td>0</td>\n",
       "      <td>0</td>\n",
       "      <td>211536</td>\n",
       "      <td>13.0000</td>\n",
       "      <td>NaN</td>\n",
       "      <td>S</td>\n",
       "    </tr>\n",
       "    <tr>\n",
       "      <th>887</th>\n",
       "      <td>888</td>\n",
       "      <td>1</td>\n",
       "      <td>1</td>\n",
       "      <td>Graham, Miss. Margaret Edith</td>\n",
       "      <td>female</td>\n",
       "      <td>19.0</td>\n",
       "      <td>0</td>\n",
       "      <td>0</td>\n",
       "      <td>112053</td>\n",
       "      <td>30.0000</td>\n",
       "      <td>B42</td>\n",
       "      <td>S</td>\n",
       "    </tr>\n",
       "    <tr>\n",
       "      <th>888</th>\n",
       "      <td>889</td>\n",
       "      <td>0</td>\n",
       "      <td>3</td>\n",
       "      <td>Johnston, Miss. Catherine Helen \"Carrie\"</td>\n",
       "      <td>female</td>\n",
       "      <td>NaN</td>\n",
       "      <td>1</td>\n",
       "      <td>2</td>\n",
       "      <td>W./C. 6607</td>\n",
       "      <td>23.4500</td>\n",
       "      <td>NaN</td>\n",
       "      <td>S</td>\n",
       "    </tr>\n",
       "    <tr>\n",
       "      <th>889</th>\n",
       "      <td>890</td>\n",
       "      <td>1</td>\n",
       "      <td>1</td>\n",
       "      <td>Behr, Mr. Karl Howell</td>\n",
       "      <td>male</td>\n",
       "      <td>26.0</td>\n",
       "      <td>0</td>\n",
       "      <td>0</td>\n",
       "      <td>111369</td>\n",
       "      <td>30.0000</td>\n",
       "      <td>C148</td>\n",
       "      <td>C</td>\n",
       "    </tr>\n",
       "    <tr>\n",
       "      <th>890</th>\n",
       "      <td>891</td>\n",
       "      <td>0</td>\n",
       "      <td>3</td>\n",
       "      <td>Dooley, Mr. Patrick</td>\n",
       "      <td>male</td>\n",
       "      <td>32.0</td>\n",
       "      <td>0</td>\n",
       "      <td>0</td>\n",
       "      <td>370376</td>\n",
       "      <td>7.7500</td>\n",
       "      <td>NaN</td>\n",
       "      <td>Q</td>\n",
       "    </tr>\n",
       "  </tbody>\n",
       "</table>\n",
       "<p>891 rows × 12 columns</p>\n",
       "</div>"
      ],
      "text/plain": [
       "     PassengerId  Survived  Pclass                                               Name     Sex   Age  SibSp  Parch            Ticket  \\\n",
       "0              1         0       3                            Braund, Mr. Owen Harris    male  22.0      1      0         A/5 21171   \n",
       "1              2         1       1  Cumings, Mrs. John Bradley (Florence Briggs Th...  female  38.0      1      0          PC 17599   \n",
       "2              3         1       3                             Heikkinen, Miss. Laina  female  26.0      0      0  STON/O2. 3101282   \n",
       "3              4         1       1       Futrelle, Mrs. Jacques Heath (Lily May Peel)  female  35.0      1      0            113803   \n",
       "4              5         0       3                           Allen, Mr. William Henry    male  35.0      0      0            373450   \n",
       "..           ...       ...     ...                                                ...     ...   ...    ...    ...               ...   \n",
       "886          887         0       2                              Montvila, Rev. Juozas    male  27.0      0      0            211536   \n",
       "887          888         1       1                       Graham, Miss. Margaret Edith  female  19.0      0      0            112053   \n",
       "888          889         0       3           Johnston, Miss. Catherine Helen \"Carrie\"  female   NaN      1      2        W./C. 6607   \n",
       "889          890         1       1                              Behr, Mr. Karl Howell    male  26.0      0      0            111369   \n",
       "890          891         0       3                                Dooley, Mr. Patrick    male  32.0      0      0            370376   \n",
       "\n",
       "        Fare Cabin Embarked  \n",
       "0     7.2500   NaN        S  \n",
       "1    71.2833   C85        C  \n",
       "2     7.9250   NaN        S  \n",
       "3    53.1000  C123        S  \n",
       "4     8.0500   NaN        S  \n",
       "..       ...   ...      ...  \n",
       "886  13.0000   NaN        S  \n",
       "887  30.0000   B42        S  \n",
       "888  23.4500   NaN        S  \n",
       "889  30.0000  C148        C  \n",
       "890   7.7500   NaN        Q  \n",
       "\n",
       "[891 rows x 12 columns]"
      ]
     },
     "execution_count": 3,
     "metadata": {},
     "output_type": "execute_result"
    }
   ],
   "source": [
    "training_dataframe = pd.read_csv(path/'train.csv')\n",
    "training_dataframe"
   ]
  },
  {
   "cell_type": "markdown",
   "id": "8b6888a3",
   "metadata": {
    "hidden": true,
    "papermill": {
     "duration": 0.104024,
     "end_time": "2022-09-07T20:37:55.022983",
     "exception": false,
     "start_time": "2022-09-07T20:37:54.918959",
     "status": "completed"
    },
    "tags": []
   },
   "source": [
    "As we learned in the *How does a neural net really work* notebook, we going to want to multiply each column by some coefficients. But we can see in the `Cabin` column that there are `NaN` values, which is how Pandas refers to missing values. We can't multiply something by a missing value!\n",
    "\n",
    "Let's check which columns contain `NaN` values. Pandas' `isna()` function returns `True` (which is treated as `1` when used as a number) for `NaN` values, so we can just add them up for each column:"
   ]
  },
  {
   "cell_type": "code",
   "execution_count": 4,
   "id": "243cb7f0",
   "metadata": {
    "execution": {
     "iopub.execute_input": "2022-09-07T20:37:55.230654Z",
     "iopub.status.busy": "2022-09-07T20:37:55.230392Z",
     "iopub.status.idle": "2022-09-07T20:37:55.238281Z",
     "shell.execute_reply": "2022-09-07T20:37:55.237620Z"
    },
    "hidden": true,
    "papermill": {
     "duration": 0.113964,
     "end_time": "2022-09-07T20:37:55.240080",
     "exception": false,
     "start_time": "2022-09-07T20:37:55.126116",
     "status": "completed"
    },
    "tags": []
   },
   "outputs": [
    {
     "data": {
      "text/plain": [
       "PassengerId      0\n",
       "Survived         0\n",
       "Pclass           0\n",
       "Name             0\n",
       "Sex              0\n",
       "Age            177\n",
       "SibSp            0\n",
       "Parch            0\n",
       "Ticket           0\n",
       "Fare             0\n",
       "Cabin          687\n",
       "Embarked         2\n",
       "dtype: int64"
      ]
     },
     "execution_count": 4,
     "metadata": {},
     "output_type": "execute_result"
    }
   ],
   "source": [
    "training_dataframe.isna().sum()"
   ]
  },
  {
   "cell_type": "markdown",
   "id": "f8390dc5",
   "metadata": {
    "hidden": true,
    "papermill": {
     "duration": 0.105071,
     "end_time": "2022-09-07T20:37:55.451501",
     "exception": false,
     "start_time": "2022-09-07T20:37:55.346430",
     "status": "completed"
    },
    "tags": []
   },
   "source": [
    "Notice that by default Pandas sums over columns.\n",
    "\n",
    "We'll need to replace the missing values with something. It doesn't generally matter too much what we choose. We'll use the most common value (the \"*mode*\"). We can use the `mode` function for that. One wrinkle is that it returns more than one row in the case of ties, so we just grab the first row with `iloc[0]`:"
   ]
  },
  {
   "cell_type": "code",
   "execution_count": 5,
   "id": "ee9fb945",
   "metadata": {
    "execution": {
     "iopub.execute_input": "2022-09-07T20:37:55.660244Z",
     "iopub.status.busy": "2022-09-07T20:37:55.659982Z",
     "iopub.status.idle": "2022-09-07T20:37:55.680556Z",
     "shell.execute_reply": "2022-09-07T20:37:55.679746Z"
    },
    "hidden": true,
    "papermill": {
     "duration": 0.127261,
     "end_time": "2022-09-07T20:37:55.682912",
     "exception": false,
     "start_time": "2022-09-07T20:37:55.555651",
     "status": "completed"
    },
    "tags": []
   },
   "outputs": [
    {
     "data": {
      "text/plain": [
       "PassengerId                      1\n",
       "Survived                       0.0\n",
       "Pclass                         3.0\n",
       "Name           Abbing, Mr. Anthony\n",
       "Sex                           male\n",
       "Age                           24.0\n",
       "SibSp                          0.0\n",
       "Parch                          0.0\n",
       "Ticket                        1601\n",
       "Fare                          8.05\n",
       "Cabin                      B96 B98\n",
       "Embarked                         S\n",
       "Name: 0, dtype: object"
      ]
     },
     "execution_count": 5,
     "metadata": {},
     "output_type": "execute_result"
    }
   ],
   "source": [
    "modes = training_dataframe.mode().iloc[0]\n",
    "modes"
   ]
  },
  {
   "cell_type": "markdown",
   "id": "8ad65663",
   "metadata": {
    "hidden": true,
    "papermill": {
     "duration": 0.102521,
     "end_time": "2022-09-07T20:37:55.889096",
     "exception": false,
     "start_time": "2022-09-07T20:37:55.786575",
     "status": "completed"
    },
    "tags": []
   },
   "source": [
    "BTW, it's never a good idea to use functions without understanding them. So be sure to google for anything you're not familiar with. E.g if you want to learn about `iloc` (which is a very important function indeed!) then Google will give you a link to a [great tutorial](https://www.shanelynn.ie/pandas-iloc-loc-select-rows-and-columns-dataframe/).\n",
    "\n",
    "Now that we've got the mode of each column, we can use `fillna` to replace the missing values with the mode of each column. We'll do it \"in place\" -- meaning that we'll change the dataframe itself, rather than returning a new one."
   ]
  },
  {
   "cell_type": "code",
   "execution_count": 6,
   "id": "ba110a13",
   "metadata": {
    "execution": {
     "iopub.execute_input": "2022-09-07T20:37:56.102030Z",
     "iopub.status.busy": "2022-09-07T20:37:56.101720Z",
     "iopub.status.idle": "2022-09-07T20:37:56.113672Z",
     "shell.execute_reply": "2022-09-07T20:37:56.112979Z"
    },
    "hidden": true,
    "papermill": {
     "duration": 0.122088,
     "end_time": "2022-09-07T20:37:56.115472",
     "exception": false,
     "start_time": "2022-09-07T20:37:55.993384",
     "status": "completed"
    },
    "tags": []
   },
   "outputs": [],
   "source": [
    "training_dataframe.fillna(modes, inplace=True)"
   ]
  },
  {
   "cell_type": "markdown",
   "id": "4187d743",
   "metadata": {
    "hidden": true,
    "papermill": {
     "duration": 0.105672,
     "end_time": "2022-09-07T20:37:56.325122",
     "exception": false,
     "start_time": "2022-09-07T20:37:56.219450",
     "status": "completed"
    },
    "tags": []
   },
   "source": [
    "We can now check there's no missing values left:"
   ]
  },
  {
   "cell_type": "code",
   "execution_count": 7,
   "id": "0c85a269",
   "metadata": {
    "execution": {
     "iopub.execute_input": "2022-09-07T20:37:56.536661Z",
     "iopub.status.busy": "2022-09-07T20:37:56.536198Z",
     "iopub.status.idle": "2022-09-07T20:37:56.546550Z",
     "shell.execute_reply": "2022-09-07T20:37:56.545845Z"
    },
    "hidden": true,
    "papermill": {
     "duration": 0.116987,
     "end_time": "2022-09-07T20:37:56.548505",
     "exception": false,
     "start_time": "2022-09-07T20:37:56.431518",
     "status": "completed"
    },
    "tags": []
   },
   "outputs": [
    {
     "data": {
      "text/plain": [
       "PassengerId    0\n",
       "Survived       0\n",
       "Pclass         0\n",
       "Name           0\n",
       "Sex            0\n",
       "Age            0\n",
       "SibSp          0\n",
       "Parch          0\n",
       "Ticket         0\n",
       "Fare           0\n",
       "Cabin          0\n",
       "Embarked       0\n",
       "dtype: int64"
      ]
     },
     "execution_count": 7,
     "metadata": {},
     "output_type": "execute_result"
    }
   ],
   "source": [
    "training_dataframe.isna().sum()"
   ]
  },
  {
   "cell_type": "markdown",
   "id": "14e08c68",
   "metadata": {
    "papermill": {
     "duration": 0.10276,
     "end_time": "2022-09-07T20:37:56.758183",
     "exception": false,
     "start_time": "2022-09-07T20:37:56.655423",
     "status": "completed"
    },
    "tags": []
   },
   "source": [
    "That was essentially the most simple way to fill missing values in the data. There are other ways. Why do it this way?\n",
    "Beacuse most of the time, it doesn't make that much of a difference. All the data and all the possible combinations of\n",
    "values that can be had, you're usually filling just a small number of values that have bad data with something, and\n",
    "overall, it won't impact the overall outcome. Generally, make a decision for your own circumstance.\n",
    "\n",
    "Also this is targeted at just being the baseline first model. You can make it more complicated later if you need to get\n",
    "better results.\n",
    "\n",
    "Discard vs fill: Fill. Missing data just removes things and the model performs better with more. Fast.ai will\n",
    "automatically create a new column and it will just be a boolean to show if a row had missing data or not."
   ]
  },
  {
   "cell_type": "markdown",
   "id": "bf0732ed",
   "metadata": {
    "hidden": true,
    "papermill": {
     "duration": 0.103177,
     "end_time": "2022-09-07T20:37:56.964871",
     "exception": false,
     "start_time": "2022-09-07T20:37:56.861694",
     "status": "completed"
    },
    "tags": []
   },
   "source": [
    "Here's how we get a quick summary of all the numeric columns in the dataset:"
   ]
  },
  {
   "cell_type": "code",
   "execution_count": 8,
   "id": "8677bd70",
   "metadata": {
    "execution": {
     "iopub.execute_input": "2022-09-07T20:37:57.175480Z",
     "iopub.status.busy": "2022-09-07T20:37:57.175214Z",
     "iopub.status.idle": "2022-09-07T20:37:57.204752Z",
     "shell.execute_reply": "2022-09-07T20:37:57.203967Z"
    },
    "hidden": true,
    "papermill": {
     "duration": 0.137527,
     "end_time": "2022-09-07T20:37:57.206740",
     "exception": false,
     "start_time": "2022-09-07T20:37:57.069213",
     "status": "completed"
    },
    "tags": []
   },
   "outputs": [
    {
     "data": {
      "text/html": [
       "<div>\n",
       "<style scoped>\n",
       "    .dataframe tbody tr th:only-of-type {\n",
       "        vertical-align: middle;\n",
       "    }\n",
       "\n",
       "    .dataframe tbody tr th {\n",
       "        vertical-align: top;\n",
       "    }\n",
       "\n",
       "    .dataframe thead th {\n",
       "        text-align: right;\n",
       "    }\n",
       "</style>\n",
       "<table border=\"1\" class=\"dataframe\">\n",
       "  <thead>\n",
       "    <tr style=\"text-align: right;\">\n",
       "      <th></th>\n",
       "      <th>PassengerId</th>\n",
       "      <th>Survived</th>\n",
       "      <th>Pclass</th>\n",
       "      <th>Age</th>\n",
       "      <th>SibSp</th>\n",
       "      <th>Parch</th>\n",
       "      <th>Fare</th>\n",
       "    </tr>\n",
       "  </thead>\n",
       "  <tbody>\n",
       "    <tr>\n",
       "      <th>count</th>\n",
       "      <td>891.000000</td>\n",
       "      <td>891.000000</td>\n",
       "      <td>891.000000</td>\n",
       "      <td>891.000000</td>\n",
       "      <td>891.000000</td>\n",
       "      <td>891.000000</td>\n",
       "      <td>891.000000</td>\n",
       "    </tr>\n",
       "    <tr>\n",
       "      <th>mean</th>\n",
       "      <td>446.000000</td>\n",
       "      <td>0.383838</td>\n",
       "      <td>2.308642</td>\n",
       "      <td>28.566970</td>\n",
       "      <td>0.523008</td>\n",
       "      <td>0.381594</td>\n",
       "      <td>32.204208</td>\n",
       "    </tr>\n",
       "    <tr>\n",
       "      <th>std</th>\n",
       "      <td>257.353842</td>\n",
       "      <td>0.486592</td>\n",
       "      <td>0.836071</td>\n",
       "      <td>13.199572</td>\n",
       "      <td>1.102743</td>\n",
       "      <td>0.806057</td>\n",
       "      <td>49.693429</td>\n",
       "    </tr>\n",
       "    <tr>\n",
       "      <th>min</th>\n",
       "      <td>1.000000</td>\n",
       "      <td>0.000000</td>\n",
       "      <td>1.000000</td>\n",
       "      <td>0.420000</td>\n",
       "      <td>0.000000</td>\n",
       "      <td>0.000000</td>\n",
       "      <td>0.000000</td>\n",
       "    </tr>\n",
       "    <tr>\n",
       "      <th>25%</th>\n",
       "      <td>223.500000</td>\n",
       "      <td>0.000000</td>\n",
       "      <td>2.000000</td>\n",
       "      <td>22.000000</td>\n",
       "      <td>0.000000</td>\n",
       "      <td>0.000000</td>\n",
       "      <td>7.910400</td>\n",
       "    </tr>\n",
       "    <tr>\n",
       "      <th>50%</th>\n",
       "      <td>446.000000</td>\n",
       "      <td>0.000000</td>\n",
       "      <td>3.000000</td>\n",
       "      <td>24.000000</td>\n",
       "      <td>0.000000</td>\n",
       "      <td>0.000000</td>\n",
       "      <td>14.454200</td>\n",
       "    </tr>\n",
       "    <tr>\n",
       "      <th>75%</th>\n",
       "      <td>668.500000</td>\n",
       "      <td>1.000000</td>\n",
       "      <td>3.000000</td>\n",
       "      <td>35.000000</td>\n",
       "      <td>1.000000</td>\n",
       "      <td>0.000000</td>\n",
       "      <td>31.000000</td>\n",
       "    </tr>\n",
       "    <tr>\n",
       "      <th>max</th>\n",
       "      <td>891.000000</td>\n",
       "      <td>1.000000</td>\n",
       "      <td>3.000000</td>\n",
       "      <td>80.000000</td>\n",
       "      <td>8.000000</td>\n",
       "      <td>6.000000</td>\n",
       "      <td>512.329200</td>\n",
       "    </tr>\n",
       "  </tbody>\n",
       "</table>\n",
       "</div>"
      ],
      "text/plain": [
       "       PassengerId    Survived      Pclass         Age       SibSp       Parch        Fare\n",
       "count   891.000000  891.000000  891.000000  891.000000  891.000000  891.000000  891.000000\n",
       "mean    446.000000    0.383838    2.308642   28.566970    0.523008    0.381594   32.204208\n",
       "std     257.353842    0.486592    0.836071   13.199572    1.102743    0.806057   49.693429\n",
       "min       1.000000    0.000000    1.000000    0.420000    0.000000    0.000000    0.000000\n",
       "25%     223.500000    0.000000    2.000000   22.000000    0.000000    0.000000    7.910400\n",
       "50%     446.000000    0.000000    3.000000   24.000000    0.000000    0.000000   14.454200\n",
       "75%     668.500000    1.000000    3.000000   35.000000    1.000000    0.000000   31.000000\n",
       "max     891.000000    1.000000    3.000000   80.000000    8.000000    6.000000  512.329200"
      ]
     },
     "execution_count": 8,
     "metadata": {},
     "output_type": "execute_result"
    }
   ],
   "source": [
    "import numpy as np\n",
    "\n",
    "training_dataframe.describe(include=(np.number))"
   ]
  },
  {
   "cell_type": "markdown",
   "id": "7a639fa9",
   "metadata": {
    "execution": {
     "iopub.execute_input": "2022-05-13T11:02:34.328433Z",
     "iopub.status.busy": "2022-05-13T11:02:34.327999Z",
     "iopub.status.idle": "2022-05-13T11:02:34.336993Z",
     "shell.execute_reply": "2022-05-13T11:02:34.335466Z",
     "shell.execute_reply.started": "2022-05-13T11:02:34.32838Z"
    },
    "hidden": true,
    "papermill": {
     "duration": 0.103947,
     "end_time": "2022-09-07T20:37:57.417421",
     "exception": false,
     "start_time": "2022-09-07T20:37:57.313474",
     "status": "completed"
    },
    "tags": []
   },
   "source": [
    "We can see that `Fare` contains mainly values of around `0` to `30`, but there's a few really big ones. This is very common with fields that contain monetary values, and it can cause problems for our model, because once that column is multiplied by a coefficient later, the few rows with really big values will dominate the result.\n",
    "\n",
    "You can see the issue most clearly visually by looking at a histogram, which shows a long tail to the right (and don't forget: if you're not entirely sure what a histogram is, Google \"[histogram tutorial](https://www.google.com/search?q=histogram+tutorial&oq=histogram+tutorial)\" and do a bit of reading before continuing on):"
   ]
  },
  {
   "cell_type": "code",
   "execution_count": 9,
   "id": "c8c2db63",
   "metadata": {
    "execution": {
     "iopub.execute_input": "2022-09-07T20:37:57.626686Z",
     "iopub.status.busy": "2022-09-07T20:37:57.626434Z",
     "iopub.status.idle": "2022-09-07T20:37:57.902764Z",
     "shell.execute_reply": "2022-09-07T20:37:57.901833Z"
    },
    "hidden": true,
    "papermill": {
     "duration": 0.384299,
     "end_time": "2022-09-07T20:37:57.904971",
     "exception": false,
     "start_time": "2022-09-07T20:37:57.520672",
     "status": "completed"
    },
    "tags": []
   },
   "outputs": [
    {
     "data": {
      "image/png": "[encoded data removed]",
      "text/plain": [
       "<Figure size 432x288 with 1 Axes>"
      ]
     },
     "metadata": {
      "needs_background": "light"
     },
     "output_type": "display_data"
    }
   ],
   "source": [
    "# X: Fare cost\n",
    "# Y: Count with that fare\n",
    "training_dataframe['Fare'].hist(legend=True);"
   ]
  },
  {
   "cell_type": "markdown",
   "id": "e188919f",
   "metadata": {
    "execution": {
     "iopub.execute_input": "2022-05-13T11:02:34.328433Z",
     "iopub.status.busy": "2022-05-13T11:02:34.327999Z",
     "iopub.status.idle": "2022-05-13T11:02:34.336993Z",
     "shell.execute_reply": "2022-05-13T11:02:34.335466Z",
     "shell.execute_reply.started": "2022-05-13T11:02:34.32838Z"
    },
    "hidden": true,
    "papermill": {
     "duration": 0.105133,
     "end_time": "2022-09-07T20:37:58.125598",
     "exception": false,
     "start_time": "2022-09-07T20:37:58.020465",
     "status": "completed"
    },
    "tags": []
   },
   "source": [
    "To fix this, the most common approach is to take the logarithm, which squishes the big numbers and makes the distribution more reasonable. Note, however, that there are zeros in the `Fare` column, and `log(0)` is infinite -- to fix this, we'll simply add `1` to all values first:"
   ]
  },
  {
   "cell_type": "code",
   "execution_count": 10,
   "id": "890ea8dd",
   "metadata": {
    "execution": {
     "iopub.execute_input": "2022-09-07T20:37:58.336544Z",
     "iopub.status.busy": "2022-09-07T20:37:58.336270Z",
     "iopub.status.idle": "2022-09-07T20:37:58.341705Z",
     "shell.execute_reply": "2022-09-07T20:37:58.340875Z"
    },
    "hidden": true,
    "papermill": {
     "duration": 0.113197,
     "end_time": "2022-09-07T20:37:58.343567",
     "exception": false,
     "start_time": "2022-09-07T20:37:58.230370",
     "status": "completed"
    },
    "tags": []
   },
   "outputs": [],
   "source": [
    "training_dataframe['LogFare'] = np.log(training_dataframe['Fare']+1)"
   ]
  },
  {
   "cell_type": "markdown",
   "id": "af1fd30f",
   "metadata": {
    "hidden": true,
    "papermill": {
     "duration": 0.105471,
     "end_time": "2022-09-07T20:37:58.564871",
     "exception": false,
     "start_time": "2022-09-07T20:37:58.459400",
     "status": "completed"
    },
    "tags": []
   },
   "source": [
    "The histogram now shows a more even distribution of values without the long tail:"
   ]
  },
  {
   "cell_type": "code",
   "execution_count": 11,
   "id": "ad4ac301",
   "metadata": {
    "execution": {
     "iopub.execute_input": "2022-09-07T20:37:58.774464Z",
     "iopub.status.busy": "2022-09-07T20:37:58.773748Z",
     "iopub.status.idle": "2022-09-07T20:37:58.987569Z",
     "shell.execute_reply": "2022-09-07T20:37:58.986783Z"
    },
    "hidden": true,
    "papermill": {
     "duration": 0.321089,
     "end_time": "2022-09-07T20:37:58.989658",
     "exception": false,
     "start_time": "2022-09-07T20:37:58.668569",
     "status": "completed"
    },
    "tags": []
   },
   "outputs": [
    {
     "data": {
      "image/png": "[encoded data removed]",
      "text/plain": [
       "<Figure size 432x288 with 1 Axes>"
      ]
     },
     "metadata": {
      "needs_background": "light"
     },
     "output_type": "display_data"
    }
   ],
   "source": [
    "training_dataframe['LogFare'].hist();"
   ]
  },
  {
   "cell_type": "markdown",
   "id": "dfa289ed",
   "metadata": {
    "hidden": true,
    "papermill": {
     "duration": 0.104774,
     "end_time": "2022-09-07T20:37:59.200169",
     "exception": false,
     "start_time": "2022-09-07T20:37:59.095395",
     "status": "completed"
    },
    "tags": []
   },
   "source": [
    "It looks from the `describe()` output like `Pclass` contains just 3 values, which we can confirm by looking at the [Data Dictionary](https://www.kaggle.com/competitions/titanic/data) (which you should always study carefully for any project!) -- "
   ]
  },
  {
   "cell_type": "code",
   "execution_count": 12,
   "id": "730f16a0",
   "metadata": {
    "execution": {
     "iopub.execute_input": "2022-09-07T20:37:59.411574Z",
     "iopub.status.busy": "2022-09-07T20:37:59.411086Z",
     "iopub.status.idle": "2022-09-07T20:37:59.417045Z",
     "shell.execute_reply": "2022-09-07T20:37:59.416220Z"
    },
    "hidden": true,
    "papermill": {
     "duration": 0.1138,
     "end_time": "2022-09-07T20:37:59.419858",
     "exception": false,
     "start_time": "2022-09-07T20:37:59.306058",
     "status": "completed"
    },
    "tags": []
   },
   "outputs": [
    {
     "data": {
      "text/plain": [
       "[1, 2, 3]"
      ]
     },
     "execution_count": 12,
     "metadata": {},
     "output_type": "execute_result"
    }
   ],
   "source": [
    "pclasses = sorted(training_dataframe.Pclass.unique())\n",
    "pclasses"
   ]
  },
  {
   "cell_type": "markdown",
   "id": "42340c3e",
   "metadata": {
    "hidden": true,
    "papermill": {
     "duration": 0.106094,
     "end_time": "2022-09-07T20:37:59.632435",
     "exception": false,
     "start_time": "2022-09-07T20:37:59.526341",
     "status": "completed"
    },
    "tags": []
   },
   "source": [
    "Here's how we get a quick summary of all the non-numeric columns in the dataset:"
   ]
  },
  {
   "cell_type": "code",
   "execution_count": 13,
   "id": "044e46c5",
   "metadata": {
    "execution": {
     "iopub.execute_input": "2022-09-07T20:37:59.845122Z",
     "iopub.status.busy": "2022-09-07T20:37:59.844402Z",
     "iopub.status.idle": "2022-09-07T20:37:59.865280Z",
     "shell.execute_reply": "2022-09-07T20:37:59.864525Z"
    },
    "hidden": true,
    "papermill": {
     "duration": 0.129689,
     "end_time": "2022-09-07T20:37:59.866986",
     "exception": false,
     "start_time": "2022-09-07T20:37:59.737297",
     "status": "completed"
    },
    "tags": []
   },
   "outputs": [
    {
     "data": {
      "text/html": [
       "<div>\n",
       "<style scoped>\n",
       "    .dataframe tbody tr th:only-of-type {\n",
       "        vertical-align: middle;\n",
       "    }\n",
       "\n",
       "    .dataframe tbody tr th {\n",
       "        vertical-align: top;\n",
       "    }\n",
       "\n",
       "    .dataframe thead th {\n",
       "        text-align: right;\n",
       "    }\n",
       "</style>\n",
       "<table border=\"1\" class=\"dataframe\">\n",
       "  <thead>\n",
       "    <tr style=\"text-align: right;\">\n",
       "      <th></th>\n",
       "      <th>Name</th>\n",
       "      <th>Sex</th>\n",
       "      <th>Ticket</th>\n",
       "      <th>Cabin</th>\n",
       "      <th>Embarked</th>\n",
       "    </tr>\n",
       "  </thead>\n",
       "  <tbody>\n",
       "    <tr>\n",
       "      <th>count</th>\n",
       "      <td>891</td>\n",
       "      <td>891</td>\n",
       "      <td>891</td>\n",
       "      <td>891</td>\n",
       "      <td>891</td>\n",
       "    </tr>\n",
       "    <tr>\n",
       "      <th>unique</th>\n",
       "      <td>891</td>\n",
       "      <td>2</td>\n",
       "      <td>681</td>\n",
       "      <td>147</td>\n",
       "      <td>3</td>\n",
       "    </tr>\n",
       "    <tr>\n",
       "      <th>top</th>\n",
       "      <td>Braund, Mr. Owen Harris</td>\n",
       "      <td>male</td>\n",
       "      <td>347082</td>\n",
       "      <td>B96 B98</td>\n",
       "      <td>S</td>\n",
       "    </tr>\n",
       "    <tr>\n",
       "      <th>freq</th>\n",
       "      <td>1</td>\n",
       "      <td>577</td>\n",
       "      <td>7</td>\n",
       "      <td>691</td>\n",
       "      <td>646</td>\n",
       "    </tr>\n",
       "  </tbody>\n",
       "</table>\n",
       "</div>"
      ],
      "text/plain": [
       "                           Name   Sex  Ticket    Cabin Embarked\n",
       "count                       891   891     891      891      891\n",
       "unique                      891     2     681      147        3\n",
       "top     Braund, Mr. Owen Harris  male  347082  B96 B98        S\n",
       "freq                          1   577       7      691      646"
      ]
     },
     "execution_count": 13,
     "metadata": {},
     "output_type": "execute_result"
    }
   ],
   "source": [
    "training_dataframe.describe(include=[object])"
   ]
  },
  {
   "cell_type": "markdown",
   "id": "d6f22e18",
   "metadata": {
    "hidden": true,
    "papermill": {
     "duration": 0.105459,
     "end_time": "2022-09-07T20:38:00.077519",
     "exception": false,
     "start_time": "2022-09-07T20:37:59.972060",
     "status": "completed"
    },
    "tags": []
   },
   "source": [
    "Clearly we can't multiply strings like `male` or `S` by coefficients, so we need to replace those with numbers.\n",
    "\n",
    "We do that by creating new columns containing *dummy variables*. A dummy variable is a column that contains a `1` where a particular column contains a particular value, or a `0` otherwise. For instance, we could create a dummy variable for `Sex='male'`, which would be a new column containing `1` for rows where `Sex` is `'male'`, and 0 for rows where it isn't.\n",
    "\n",
    "Pandas can create these automatically using `get_dummies`, which also remove the original columns. We'll create dummy variables for `Pclass`, even though it's numeric, since the numbers `1`, `2`, and `3` correspond to first, second, and third class cabins - not to counts or measures that make sense to multiply by. We'll also create dummies for `Sex` and `Embarked` since we'll want to use those as predictors in our model. On the other hand, `Cabin`, `Name`, and `Ticket` have too many unique values for it to make sense creating dummy variables for them."
   ]
  },
  {
   "cell_type": "code",
   "execution_count": 14,
   "id": "20b1865e",
   "metadata": {
    "execution": {
     "iopub.execute_input": "2022-09-07T20:38:00.293674Z",
     "iopub.status.busy": "2022-09-07T20:38:00.293406Z",
     "iopub.status.idle": "2022-09-07T20:38:00.306946Z",
     "shell.execute_reply": "2022-09-07T20:38:00.306137Z"
    },
    "hidden": true,
    "papermill": {
     "duration": 0.124731,
     "end_time": "2022-09-07T20:38:00.308760",
     "exception": false,
     "start_time": "2022-09-07T20:38:00.184029",
     "status": "completed"
    },
    "tags": []
   },
   "outputs": [
    {
     "data": {
      "text/plain": [
       "Index(['PassengerId', 'Survived', 'Name', 'Age', 'SibSp', 'Parch', 'Ticket', 'Fare', 'Cabin', 'LogFare', 'Sex_female', 'Sex_male',\n",
       "       'Pclass_1', 'Pclass_2', 'Pclass_3', 'Embarked_C', 'Embarked_Q', 'Embarked_S'],\n",
       "      dtype='object')"
      ]
     },
     "execution_count": 14,
     "metadata": {},
     "output_type": "execute_result"
    }
   ],
   "source": [
    "training_dataframe = pd.get_dummies(training_dataframe, columns=[\"Sex\",\"Pclass\",\"Embarked\"])\n",
    "training_dataframe.columns"
   ]
  },
  {
   "cell_type": "markdown",
   "id": "3a7d954f",
   "metadata": {
    "hidden": true,
    "papermill": {
     "duration": 0.117791,
     "end_time": "2022-09-07T20:38:00.533762",
     "exception": false,
     "start_time": "2022-09-07T20:38:00.415971",
     "status": "completed"
    },
    "tags": []
   },
   "source": [
    "We can see that 5 columns have been added to the end -- one for each of the possible values of each of the three columns we requested, and that those three requested columns have been removed.\n",
    "\n",
    "Here's what the first few rows of those newly added columns look like:"
   ]
  },
  {
   "cell_type": "code",
   "execution_count": 15,
   "id": "61fd08d5",
   "metadata": {
    "execution": {
     "iopub.execute_input": "2022-09-07T20:38:00.748484Z",
     "iopub.status.busy": "2022-09-07T20:38:00.748228Z",
     "iopub.status.idle": "2022-09-07T20:38:00.761604Z",
     "shell.execute_reply": "2022-09-07T20:38:00.760817Z"
    },
    "hidden": true,
    "papermill": {
     "duration": 0.122995,
     "end_time": "2022-09-07T20:38:00.763632",
     "exception": false,
     "start_time": "2022-09-07T20:38:00.640637",
     "status": "completed"
    },
    "tags": []
   },
   "outputs": [
    {
     "data": {
      "text/html": [
       "<div>\n",
       "<style scoped>\n",
       "    .dataframe tbody tr th:only-of-type {\n",
       "        vertical-align: middle;\n",
       "    }\n",
       "\n",
       "    .dataframe tbody tr th {\n",
       "        vertical-align: top;\n",
       "    }\n",
       "\n",
       "    .dataframe thead th {\n",
       "        text-align: right;\n",
       "    }\n",
       "</style>\n",
       "<table border=\"1\" class=\"dataframe\">\n",
       "  <thead>\n",
       "    <tr style=\"text-align: right;\">\n",
       "      <th></th>\n",
       "      <th>Sex_male</th>\n",
       "      <th>Sex_female</th>\n",
       "      <th>Pclass_1</th>\n",
       "      <th>Pclass_2</th>\n",
       "      <th>Pclass_3</th>\n",
       "      <th>Embarked_C</th>\n",
       "      <th>Embarked_Q</th>\n",
       "      <th>Embarked_S</th>\n",
       "    </tr>\n",
       "  </thead>\n",
       "  <tbody>\n",
       "    <tr>\n",
       "      <th>0</th>\n",
       "      <td>1</td>\n",
       "      <td>0</td>\n",
       "      <td>0</td>\n",
       "      <td>0</td>\n",
       "      <td>1</td>\n",
       "      <td>0</td>\n",
       "      <td>0</td>\n",
       "      <td>1</td>\n",
       "    </tr>\n",
       "    <tr>\n",
       "      <th>1</th>\n",
       "      <td>0</td>\n",
       "      <td>1</td>\n",
       "      <td>1</td>\n",
       "      <td>0</td>\n",
       "      <td>0</td>\n",
       "      <td>1</td>\n",
       "      <td>0</td>\n",
       "      <td>0</td>\n",
       "    </tr>\n",
       "    <tr>\n",
       "      <th>2</th>\n",
       "      <td>0</td>\n",
       "      <td>1</td>\n",
       "      <td>0</td>\n",
       "      <td>0</td>\n",
       "      <td>1</td>\n",
       "      <td>0</td>\n",
       "      <td>0</td>\n",
       "      <td>1</td>\n",
       "    </tr>\n",
       "    <tr>\n",
       "      <th>3</th>\n",
       "      <td>0</td>\n",
       "      <td>1</td>\n",
       "      <td>1</td>\n",
       "      <td>0</td>\n",
       "      <td>0</td>\n",
       "      <td>0</td>\n",
       "      <td>0</td>\n",
       "      <td>1</td>\n",
       "    </tr>\n",
       "    <tr>\n",
       "      <th>4</th>\n",
       "      <td>1</td>\n",
       "      <td>0</td>\n",
       "      <td>0</td>\n",
       "      <td>0</td>\n",
       "      <td>1</td>\n",
       "      <td>0</td>\n",
       "      <td>0</td>\n",
       "      <td>1</td>\n",
       "    </tr>\n",
       "  </tbody>\n",
       "</table>\n",
       "</div>"
      ],
      "text/plain": [
       "   Sex_male  Sex_female  Pclass_1  Pclass_2  Pclass_3  Embarked_C  Embarked_Q  Embarked_S\n",
       "0         1           0         0         0         1           0           0           1\n",
       "1         0           1         1         0         0           1           0           0\n",
       "2         0           1         0         0         1           0           0           1\n",
       "3         0           1         1         0         0           0           0           1\n",
       "4         1           0         0         0         1           0           0           1"
      ]
     },
     "execution_count": 15,
     "metadata": {},
     "output_type": "execute_result"
    }
   ],
   "source": [
    "added_cols = ['Sex_male', 'Sex_female', 'Pclass_1', 'Pclass_2', 'Pclass_3', 'Embarked_C', 'Embarked_Q', 'Embarked_S']\n",
    "training_dataframe[added_cols].head()"
   ]
  },
  {
   "cell_type": "markdown",
   "id": "35fbfd5a",
   "metadata": {
    "hidden": true,
    "papermill": {
     "duration": 0.107726,
     "end_time": "2022-09-07T20:38:00.979198",
     "exception": false,
     "start_time": "2022-09-07T20:38:00.871472",
     "status": "completed"
    },
    "tags": []
   },
   "source": [
    "Now we can create our independent (predictors) and dependent (target) variables. They both need to be PyTorch tensors. Our dependent variable is `Survived`:"
   ]
  },
  {
   "cell_type": "code",
   "execution_count": 16,
   "id": "ac835bd2",
   "metadata": {
    "execution": {
     "iopub.execute_input": "2022-09-07T20:38:01.202991Z",
     "iopub.status.busy": "2022-09-07T20:38:01.202687Z",
     "iopub.status.idle": "2022-09-07T20:38:01.216271Z",
     "shell.execute_reply": "2022-09-07T20:38:01.215541Z"
    },
    "hidden": true,
    "papermill": {
     "duration": 0.125136,
     "end_time": "2022-09-07T20:38:01.218222",
     "exception": false,
     "start_time": "2022-09-07T20:38:01.093086",
     "status": "completed"
    },
    "tags": []
   },
   "outputs": [],
   "source": [
    "from torch import tensor\n",
    "\n",
    "t_dep = tensor(training_dataframe.Survived)"
   ]
  },
  {
   "cell_type": "markdown",
   "id": "61f1f99b",
   "metadata": {
    "hidden": true,
    "papermill": {
     "duration": 0.111636,
     "end_time": "2022-09-07T20:38:01.438103",
     "exception": false,
     "start_time": "2022-09-07T20:38:01.326467",
     "status": "completed"
    },
    "tags": []
   },
   "source": [
    "Our independent variables are all the continuous variables of interest plus all the dummy variables we just created:"
   ]
  },
  {
   "cell_type": "code",
   "execution_count": 17,
   "id": "37182e2f",
   "metadata": {
    "execution": {
     "iopub.execute_input": "2022-09-07T20:38:01.654628Z",
     "iopub.status.busy": "2022-09-07T20:38:01.654359Z",
     "iopub.status.idle": "2022-09-07T20:38:01.717655Z",
     "shell.execute_reply": "2022-09-07T20:38:01.716991Z"
    },
    "hidden": true,
    "papermill": {
     "duration": 0.174584,
     "end_time": "2022-09-07T20:38:01.719706",
     "exception": false,
     "start_time": "2022-09-07T20:38:01.545122",
     "status": "completed"
    },
    "tags": []
   },
   "outputs": [
    {
     "data": {
      "text/plain": [
       "tensor([[22.0000,  1.0000,  0.0000,  2.1102,  1.0000,  0.0000,  0.0000,  0.0000,  1.0000,  0.0000,  0.0000,  1.0000],\n",
       "        [38.0000,  1.0000,  0.0000,  4.2806,  0.0000,  1.0000,  1.0000,  0.0000,  0.0000,  1.0000,  0.0000,  0.0000],\n",
       "        [26.0000,  0.0000,  0.0000,  2.1889,  0.0000,  1.0000,  0.0000,  0.0000,  1.0000,  0.0000,  0.0000,  1.0000],\n",
       "        [35.0000,  1.0000,  0.0000,  3.9908,  0.0000,  1.0000,  1.0000,  0.0000,  0.0000,  0.0000,  0.0000,  1.0000],\n",
       "        [35.0000,  0.0000,  0.0000,  2.2028,  1.0000,  0.0000,  0.0000,  0.0000,  1.0000,  0.0000,  0.0000,  1.0000],\n",
       "        [24.0000,  0.0000,  0.0000,  2.2469,  1.0000,  0.0000,  0.0000,  0.0000,  1.0000,  0.0000,  1.0000,  0.0000],\n",
       "        [54.0000,  0.0000,  0.0000,  3.9677,  1.0000,  0.0000,  1.0000,  0.0000,  0.0000,  0.0000,  0.0000,  1.0000],\n",
       "        ...,\n",
       "        [25.0000,  0.0000,  0.0000,  2.0857,  1.0000,  0.0000,  0.0000,  0.0000,  1.0000,  0.0000,  0.0000,  1.0000],\n",
       "        [39.0000,  0.0000,  5.0000,  3.4054,  0.0000,  1.0000,  0.0000,  0.0000,  1.0000,  0.0000,  1.0000,  0.0000],\n",
       "        [27.0000,  0.0000,  0.0000,  2.6391,  1.0000,  0.0000,  0.0000,  1.0000,  0.0000,  0.0000,  0.0000,  1.0000],\n",
       "        [19.0000,  0.0000,  0.0000,  3.4340,  0.0000,  1.0000,  1.0000,  0.0000,  0.0000,  0.0000,  0.0000,  1.0000],\n",
       "        [24.0000,  1.0000,  2.0000,  3.1966,  0.0000,  1.0000,  0.0000,  0.0000,  1.0000,  0.0000,  0.0000,  1.0000],\n",
       "        [26.0000,  0.0000,  0.0000,  3.4340,  1.0000,  0.0000,  1.0000,  0.0000,  0.0000,  1.0000,  0.0000,  0.0000],\n",
       "        [32.0000,  0.0000,  0.0000,  2.1691,  1.0000,  0.0000,  0.0000,  0.0000,  1.0000,  0.0000,  1.0000,  0.0000]])"
      ]
     },
     "execution_count": 17,
     "metadata": {},
     "output_type": "execute_result"
    }
   ],
   "source": [
    "indep_cols = ['Age', 'SibSp', 'Parch', 'LogFare'] + added_cols\n",
    "\n",
    "# Grab the independent columns we want to use and make a tensor out of them.\n",
    "# Pytorch wants everything to be floats for when it multiplies things together, so we're making everything floats.\n",
    "t_indep = tensor(training_dataframe[indep_cols].values, dtype=torch.float)\n",
    "t_indep"
   ]
  },
  {
   "cell_type": "markdown",
   "id": "cfdd2131",
   "metadata": {
    "hidden": true,
    "papermill": {
     "duration": 0.107298,
     "end_time": "2022-09-07T20:38:01.934633",
     "exception": false,
     "start_time": "2022-09-07T20:38:01.827335",
     "status": "completed"
    },
    "tags": []
   },
   "source": [
    "The shape is going to be important because you need things to line up to do matrix multiplication.\n",
    "Here's the number of rows and columns we have for our independent variables:"
   ]
  },
  {
   "cell_type": "code",
   "execution_count": 18,
   "id": "76e56b52",
   "metadata": {
    "execution": {
     "iopub.execute_input": "2022-09-07T20:38:02.151818Z",
     "iopub.status.busy": "2022-09-07T20:38:02.151553Z",
     "iopub.status.idle": "2022-09-07T20:38:02.156616Z",
     "shell.execute_reply": "2022-09-07T20:38:02.155948Z"
    },
    "hidden": true,
    "papermill": {
     "duration": 0.116945,
     "end_time": "2022-09-07T20:38:02.159064",
     "exception": false,
     "start_time": "2022-09-07T20:38:02.042119",
     "status": "completed"
    },
    "tags": []
   },
   "outputs": [
    {
     "data": {
      "text/plain": [
       "torch.Size([891, 12])"
      ]
     },
     "execution_count": 18,
     "metadata": {},
     "output_type": "execute_result"
    }
   ],
   "source": [
    "t_indep.shape"
   ]
  },
  {
   "cell_type": "markdown",
   "id": "124b9b9f",
   "metadata": {
    "papermill": {
     "duration": 0.107615,
     "end_time": "2022-09-07T20:38:02.373241",
     "exception": false,
     "start_time": "2022-09-07T20:38:02.265626",
     "status": "completed"
    },
    "tags": []
   },
   "source": [
    "The rank is the number of dimenstions. You can see that by getting the length of the shape."
   ]
  },
  {
   "cell_type": "code",
   "execution_count": 19,
   "id": "22460782",
   "metadata": {
    "execution": {
     "iopub.execute_input": "2022-09-07T20:38:02.601186Z",
     "iopub.status.busy": "2022-09-07T20:38:02.600572Z",
     "iopub.status.idle": "2022-09-07T20:38:02.605949Z",
     "shell.execute_reply": "2022-09-07T20:38:02.605271Z"
    },
    "papermill": {
     "duration": 0.123624,
     "end_time": "2022-09-07T20:38:02.608441",
     "exception": false,
     "start_time": "2022-09-07T20:38:02.484817",
     "status": "completed"
    },
    "tags": []
   },
   "outputs": [
    {
     "data": {
      "text/plain": [
       "2"
      ]
     },
     "execution_count": 19,
     "metadata": {},
     "output_type": "execute_result"
    }
   ],
   "source": [
    "len(t_indep.shape)"
   ]
  },
  {
   "cell_type": "markdown",
   "id": "d1a38f7a",
   "metadata": {
    "papermill": {
     "duration": 0.108786,
     "end_time": "2022-09-07T20:38:02.825435",
     "exception": false,
     "start_time": "2022-09-07T20:38:02.716649",
     "status": "completed"
    },
    "tags": []
   },
   "source": [
    "- Scalar is Rank 0 (just one number, x=tensor(2.0) is a scalar)\n",
    "- Vector is Rank 1\n",
    "- Matrix is Rank 2\n",
    "- Others are just referred to by rank"
   ]
  },
  {
   "cell_type": "markdown",
   "id": "701da7f4",
   "metadata": {
    "papermill": {
     "duration": 0.10818,
     "end_time": "2022-09-07T20:38:03.041440",
     "exception": false,
     "start_time": "2022-09-07T20:38:02.933260",
     "status": "completed"
    },
    "tags": []
   },
   "source": [
    "## Setting up a linear model"
   ]
  },
  {
   "cell_type": "markdown",
   "id": "0c83ac9e",
   "metadata": {
    "papermill": {
     "duration": 0.1089,
     "end_time": "2022-09-07T20:38:03.258440",
     "exception": false,
     "start_time": "2022-09-07T20:38:03.149540",
     "status": "completed"
    },
    "tags": []
   },
   "source": [
    "Now that we've got a matrix of independent variables and a dependent variable vector, we can work on calculating our predictions and our loss. In this section, we're going to manually do a single step of calculating predictions and loss for every row of our data.\n",
    "\n",
    "Our first model will be a simple linear model. We'll need a coefficient for each column in `t_indep`. We'll pick random numbers in the range `(-0.5,0.5)`, and set our manual seed so that my explanations in the prose in this notebook will be consistent with what you see when you run it."
   ]
  },
  {
   "cell_type": "code",
   "execution_count": 20,
   "id": "8d5c71c1",
   "metadata": {
    "execution": {
     "iopub.execute_input": "2022-09-07T20:38:03.473651Z",
     "iopub.status.busy": "2022-09-07T20:38:03.473384Z",
     "iopub.status.idle": "2022-09-07T20:38:03.487877Z",
     "shell.execute_reply": "2022-09-07T20:38:03.487135Z"
    },
    "papermill": {
     "duration": 0.124041,
     "end_time": "2022-09-07T20:38:03.489627",
     "exception": false,
     "start_time": "2022-09-07T20:38:03.365586",
     "status": "completed"
    },
    "tags": []
   },
   "outputs": [
    {
     "data": {
      "text/plain": [
       "tensor([-0.4629,  0.1386,  0.2409, -0.2262, -0.2632, -0.3147,  0.4876,  0.3136,  0.2799, -0.4392,  0.2103,  0.3625])"
      ]
     },
     "execution_count": 20,
     "metadata": {},
     "output_type": "execute_result"
    }
   ],
   "source": [
    "torch.manual_seed(442)\n",
    "\n",
    "# number of coefficients is equal to the number of columns. We get the number of columns from t_indep.shape[1] here\n",
    "n_coeff = t_indep.shape[1]\n",
    "# torch.rand() generates numbers between 0 and 1, if we subtract 0.5 from all of them, they'll be centered on 0\n",
    "coeffs = torch.rand(n_coeff)-0.5\n",
    "coeffs"
   ]
  },
  {
   "cell_type": "markdown",
   "id": "f2051fcc",
   "metadata": {
    "papermill": {
     "duration": 0.184282,
     "end_time": "2022-09-07T20:38:03.900695",
     "exception": false,
     "start_time": "2022-09-07T20:38:03.716413",
     "status": "completed"
    },
    "tags": []
   },
   "source": [
    "Our predictions will be calculated by multiplying each row by the coefficients, and adding them up. One interesting point here is that we don't need a separate constant term (also known as a \"bias\" or \"intercept\" term), or a column of all `1`s to give the same effect has having a constant term. That's because our dummy variables already cover the entire dataset -- e.g. there's a column for \"male\" and a column for \"female\", and everyone in the dataset is in exactly one of these; therefore, we don't need a separate intercept term to cover rows that aren't otherwise part of a column.\n",
    "\n",
    "Here's what the multiplication looks like:"
   ]
  },
  {
   "cell_type": "code",
   "execution_count": 21,
   "id": "86b2f6d2",
   "metadata": {
    "execution": {
     "iopub.execute_input": "2022-09-07T20:38:04.195673Z",
     "iopub.status.busy": "2022-09-07T20:38:04.195411Z",
     "iopub.status.idle": "2022-09-07T20:38:04.200304Z",
     "shell.execute_reply": "2022-09-07T20:38:04.199642Z"
    },
    "papermill": {
     "duration": 0.139435,
     "end_time": "2022-09-07T20:38:04.202306",
     "exception": false,
     "start_time": "2022-09-07T20:38:04.062871",
     "status": "completed"
    },
    "tags": []
   },
   "outputs": [
    {
     "data": {
      "text/plain": [
       "torch.Size([891, 12])"
      ]
     },
     "execution_count": 21,
     "metadata": {},
     "output_type": "execute_result"
    }
   ],
   "source": [
    "t_indep.shape"
   ]
  },
  {
   "cell_type": "code",
   "execution_count": 22,
   "id": "66a52b7f",
   "metadata": {
    "execution": {
     "iopub.execute_input": "2022-09-07T20:38:04.420344Z",
     "iopub.status.busy": "2022-09-07T20:38:04.419587Z",
     "iopub.status.idle": "2022-09-07T20:38:04.424906Z",
     "shell.execute_reply": "2022-09-07T20:38:04.424234Z"
    },
    "papermill": {
     "duration": 0.116514,
     "end_time": "2022-09-07T20:38:04.426605",
     "exception": false,
     "start_time": "2022-09-07T20:38:04.310091",
     "status": "completed"
    },
    "tags": []
   },
   "outputs": [
    {
     "data": {
      "text/plain": [
       "torch.Size([12])"
      ]
     },
     "execution_count": 22,
     "metadata": {},
     "output_type": "execute_result"
    }
   ],
   "source": [
    "coeffs.shape"
   ]
  },
  {
   "cell_type": "markdown",
   "id": "b5fda154",
   "metadata": {
    "papermill": {
     "duration": 0.108954,
     "end_time": "2022-09-07T20:38:04.643567",
     "exception": false,
     "start_time": "2022-09-07T20:38:04.534613",
     "status": "completed"
    },
    "tags": []
   },
   "source": [
    "The coeffs values will be multiplied against each of the 891 rows of t_indep, one by one. This works if both variables are tensors\n",
    "and if the last values in the shape of each tensor, match, i.e. are the same, then numpy will do what's called a broadcast and make\n",
    "this very efficient. And if you're using a GPU, then it will compile to use teh GPU efficiently."
   ]
  },
  {
   "cell_type": "code",
   "execution_count": 23,
   "id": "5ab1387f",
   "metadata": {
    "execution": {
     "iopub.execute_input": "2022-09-07T20:38:04.861593Z",
     "iopub.status.busy": "2022-09-07T20:38:04.861325Z",
     "iopub.status.idle": "2022-09-07T20:38:04.868367Z",
     "shell.execute_reply": "2022-09-07T20:38:04.867607Z"
    },
    "papermill": {
     "duration": 0.118458,
     "end_time": "2022-09-07T20:38:04.870296",
     "exception": false,
     "start_time": "2022-09-07T20:38:04.751838",
     "status": "completed"
    },
    "tags": []
   },
   "outputs": [
    {
     "data": {
      "text/plain": [
       "tensor([[-10.1838,   0.1386,   0.0000,  -0.4772,  -0.2632,  -0.0000,   0.0000,   0.0000,   0.2799,  -0.0000,   0.0000,   0.3625],\n",
       "        [-17.5902,   0.1386,   0.0000,  -0.9681,  -0.0000,  -0.3147,   0.4876,   0.0000,   0.0000,  -0.4392,   0.0000,   0.0000],\n",
       "        [-12.0354,   0.0000,   0.0000,  -0.4950,  -0.0000,  -0.3147,   0.0000,   0.0000,   0.2799,  -0.0000,   0.0000,   0.3625],\n",
       "        [-16.2015,   0.1386,   0.0000,  -0.9025,  -0.0000,  -0.3147,   0.4876,   0.0000,   0.0000,  -0.0000,   0.0000,   0.3625],\n",
       "        [-16.2015,   0.0000,   0.0000,  -0.4982,  -0.2632,  -0.0000,   0.0000,   0.0000,   0.2799,  -0.0000,   0.0000,   0.3625],\n",
       "        [-11.1096,   0.0000,   0.0000,  -0.5081,  -0.2632,  -0.0000,   0.0000,   0.0000,   0.2799,  -0.0000,   0.2103,   0.0000],\n",
       "        [-24.9966,   0.0000,   0.0000,  -0.8973,  -0.2632,  -0.0000,   0.4876,   0.0000,   0.0000,  -0.0000,   0.0000,   0.3625],\n",
       "        ...,\n",
       "        [-11.5725,   0.0000,   0.0000,  -0.4717,  -0.2632,  -0.0000,   0.0000,   0.0000,   0.2799,  -0.0000,   0.0000,   0.3625],\n",
       "        [-18.0531,   0.0000,   1.2045,  -0.7701,  -0.0000,  -0.3147,   0.0000,   0.0000,   0.2799,  -0.0000,   0.2103,   0.0000],\n",
       "        [-12.4983,   0.0000,   0.0000,  -0.5968,  -0.2632,  -0.0000,   0.0000,   0.3136,   0.0000,  -0.0000,   0.0000,   0.3625],\n",
       "        [ -8.7951,   0.0000,   0.0000,  -0.7766,  -0.0000,  -0.3147,   0.4876,   0.0000,   0.0000,  -0.0000,   0.0000,   0.3625],\n",
       "        [-11.1096,   0.1386,   0.4818,  -0.7229,  -0.0000,  -0.3147,   0.0000,   0.0000,   0.2799,  -0.0000,   0.0000,   0.3625],\n",
       "        [-12.0354,   0.0000,   0.0000,  -0.7766,  -0.2632,  -0.0000,   0.4876,   0.0000,   0.0000,  -0.4392,   0.0000,   0.0000],\n",
       "        [-14.8128,   0.0000,   0.0000,  -0.4905,  -0.2632,  -0.0000,   0.0000,   0.0000,   0.2799,  -0.0000,   0.2103,   0.0000]])"
      ]
     },
     "execution_count": 23,
     "metadata": {},
     "output_type": "execute_result"
    }
   ],
   "source": [
    "# multiply a matrix by a vector\n",
    "t_indep*coeffs"
   ]
  },
  {
   "cell_type": "markdown",
   "id": "840de7cd",
   "metadata": {
    "papermill": {
     "duration": 0.108361,
     "end_time": "2022-09-07T20:38:05.089258",
     "exception": false,
     "start_time": "2022-09-07T20:38:04.980897",
     "status": "completed"
    },
    "tags": []
   },
   "source": [
    "We can see we've got a problem here. The sums of each row will be dominated by the first column, which is `Age`, since that's bigger on average than all the others.\n",
    "\n",
    "Let's make all the columns contain numbers from `0` to `1`, by dividing each column by its `max()`, what we're doing is normalizing\n",
    "this column:"
   ]
  },
  {
   "cell_type": "code",
   "execution_count": 24,
   "id": "ea6e89f3",
   "metadata": {
    "execution": {
     "iopub.execute_input": "2022-09-07T20:38:05.309122Z",
     "iopub.status.busy": "2022-09-07T20:38:05.308398Z",
     "iopub.status.idle": "2022-09-07T20:38:05.315113Z",
     "shell.execute_reply": "2022-09-07T20:38:05.314433Z"
    },
    "papermill": {
     "duration": 0.117271,
     "end_time": "2022-09-07T20:38:05.316884",
     "exception": false,
     "start_time": "2022-09-07T20:38:05.199613",
     "status": "completed"
    },
    "tags": []
   },
   "outputs": [],
   "source": [
    "# Max of each row by calling max(). Since Age is the biggest value as we've already normalized the other values.\n",
    "# Passing the dimension is, do you want the maximum of the rows? or the maximum of the columns?\n",
    "# In this case since we're just getting the max of the one row, we also want the max over the row, vs the max\n",
    "# over the column. Which we're doing when we say dim=0.\n",
    "# Other frameworks will refer to dim, dimensions as axes. Pytorch calls them dimensions, dim.\n",
    "\n",
    "# value of each maximum and the index of where it was. In this case which row it was.\n",
    "vals,indices = t_indep.max(dim=0)\n",
    "\n",
    "# Thanks to broadcasting, we do the following:\n",
    "t_indep = t_indep / vals"
   ]
  },
  {
   "cell_type": "markdown",
   "id": "a2e61d2d",
   "metadata": {
    "papermill": {
     "duration": 0.107772,
     "end_time": "2022-09-07T20:38:05.533812",
     "exception": false,
     "start_time": "2022-09-07T20:38:05.426040",
     "status": "completed"
    },
    "tags": []
   },
   "source": [
    "Common normalizations you see are dividing by the maximum, which we do here. And another is subtracting the mean and dividing by\n",
    "the standard deviation. Doesn't matter too much which you use, usually."
   ]
  },
  {
   "cell_type": "markdown",
   "id": "b544eb4f",
   "metadata": {
    "papermill": {
     "duration": 0.110139,
     "end_time": "2022-09-07T20:38:05.752755",
     "exception": false,
     "start_time": "2022-09-07T20:38:05.642616",
     "status": "completed"
    },
    "tags": []
   },
   "source": [
    "As we see, that removes the problem of one column dominating all the others:"
   ]
  },
  {
   "cell_type": "code",
   "execution_count": 25,
   "id": "eda7c218",
   "metadata": {
    "execution": {
     "iopub.execute_input": "2022-09-07T20:38:05.973366Z",
     "iopub.status.busy": "2022-09-07T20:38:05.973106Z",
     "iopub.status.idle": "2022-09-07T20:38:05.980020Z",
     "shell.execute_reply": "2022-09-07T20:38:05.979290Z"
    },
    "papermill": {
     "duration": 0.1199,
     "end_time": "2022-09-07T20:38:05.981725",
     "exception": false,
     "start_time": "2022-09-07T20:38:05.861825",
     "status": "completed"
    },
    "tags": []
   },
   "outputs": [
    {
     "data": {
      "text/plain": [
       "tensor([[-0.1273,  0.0173,  0.0000, -0.0765, -0.2632, -0.0000,  0.0000,  0.0000,  0.2799, -0.0000,  0.0000,  0.3625],\n",
       "        [-0.2199,  0.0173,  0.0000, -0.1551, -0.0000, -0.3147,  0.4876,  0.0000,  0.0000, -0.4392,  0.0000,  0.0000],\n",
       "        [-0.1504,  0.0000,  0.0000, -0.0793, -0.0000, -0.3147,  0.0000,  0.0000,  0.2799, -0.0000,  0.0000,  0.3625],\n",
       "        [-0.2025,  0.0173,  0.0000, -0.1446, -0.0000, -0.3147,  0.4876,  0.0000,  0.0000, -0.0000,  0.0000,  0.3625],\n",
       "        [-0.2025,  0.0000,  0.0000, -0.0798, -0.2632, -0.0000,  0.0000,  0.0000,  0.2799, -0.0000,  0.0000,  0.3625],\n",
       "        [-0.1389,  0.0000,  0.0000, -0.0814, -0.2632, -0.0000,  0.0000,  0.0000,  0.2799, -0.0000,  0.2103,  0.0000],\n",
       "        [-0.3125,  0.0000,  0.0000, -0.1438, -0.2632, -0.0000,  0.4876,  0.0000,  0.0000, -0.0000,  0.0000,  0.3625],\n",
       "        ...,\n",
       "        [-0.1447,  0.0000,  0.0000, -0.0756, -0.2632, -0.0000,  0.0000,  0.0000,  0.2799, -0.0000,  0.0000,  0.3625],\n",
       "        [-0.2257,  0.0000,  0.2008, -0.1234, -0.0000, -0.3147,  0.0000,  0.0000,  0.2799, -0.0000,  0.2103,  0.0000],\n",
       "        [-0.1562,  0.0000,  0.0000, -0.0956, -0.2632, -0.0000,  0.0000,  0.3136,  0.0000, -0.0000,  0.0000,  0.3625],\n",
       "        [-0.1099,  0.0000,  0.0000, -0.1244, -0.0000, -0.3147,  0.4876,  0.0000,  0.0000, -0.0000,  0.0000,  0.3625],\n",
       "        [-0.1389,  0.0173,  0.0803, -0.1158, -0.0000, -0.3147,  0.0000,  0.0000,  0.2799, -0.0000,  0.0000,  0.3625],\n",
       "        [-0.1504,  0.0000,  0.0000, -0.1244, -0.2632, -0.0000,  0.4876,  0.0000,  0.0000, -0.4392,  0.0000,  0.0000],\n",
       "        [-0.1852,  0.0000,  0.0000, -0.0786, -0.2632, -0.0000,  0.0000,  0.0000,  0.2799, -0.0000,  0.2103,  0.0000]])"
      ]
     },
     "execution_count": 25,
     "metadata": {},
     "output_type": "execute_result"
    }
   ],
   "source": [
    "t_indep*coeffs"
   ]
  },
  {
   "cell_type": "markdown",
   "id": "1ef75792",
   "metadata": {
    "papermill": {
     "duration": 0.108313,
     "end_time": "2022-09-07T20:38:06.199396",
     "exception": false,
     "start_time": "2022-09-07T20:38:06.091083",
     "status": "completed"
    },
    "tags": []
   },
   "source": [
    "One thing you hopefully noticed is how amazingly cool this line of code is:\n",
    "\n",
    "    t_indep = t_indep / vals\n",
    "\n",
    "That is dividing a matrix by a vector -- what on earth does that mean?!? The trick here is that we're taking advantage of a technique in numpy and PyTorch (and many other languages, going all the way back to APL) called [broadcasting](https://numpy.org/doc/stable/user/basics.broadcasting.html). In short, this acts as if there's a separate copy of the vector for every row of the matrix, so it divides each row of the matrix by the vector. In practice, it doesn't actually make any copies, and does the whole thing in a highly optimized way, taking full advantage of modern CPUs (or, indeed, GPUs, if we're using them). Broadcasting is one of the most important techniques for making your code concise, maintainable, and fast, so it's well worth studying and practicing.\n",
    "\n",
    "We can now create predictions from our linear model, by adding up the rows of the product:"
   ]
  },
  {
   "cell_type": "code",
   "execution_count": 26,
   "id": "5a38f81a",
   "metadata": {
    "execution": {
     "iopub.execute_input": "2022-09-07T20:38:06.418786Z",
     "iopub.status.busy": "2022-09-07T20:38:06.418069Z",
     "iopub.status.idle": "2022-09-07T20:38:06.425646Z",
     "shell.execute_reply": "2022-09-07T20:38:06.424970Z"
    },
    "papermill": {
     "duration": 0.119301,
     "end_time": "2022-09-07T20:38:06.427675",
     "exception": false,
     "start_time": "2022-09-07T20:38:06.308374",
     "status": "completed"
    },
    "tags": []
   },
   "outputs": [],
   "source": [
    "# Sum up over the columns\n",
    "preds = (t_indep*coeffs).sum(axis=1)"
   ]
  },
  {
   "cell_type": "markdown",
   "id": "35e6e65e",
   "metadata": {
    "papermill": {
     "duration": 0.113254,
     "end_time": "2022-09-07T20:38:06.651012",
     "exception": false,
     "start_time": "2022-09-07T20:38:06.537758",
     "status": "completed"
    },
    "tags": []
   },
   "source": [
    "Let's take a look at the first few:"
   ]
  },
  {
   "cell_type": "code",
   "execution_count": 27,
   "id": "9506faf9",
   "metadata": {
    "execution": {
     "iopub.execute_input": "2022-09-07T20:38:06.873730Z",
     "iopub.status.busy": "2022-09-07T20:38:06.873452Z",
     "iopub.status.idle": "2022-09-07T20:38:06.881260Z",
     "shell.execute_reply": "2022-09-07T20:38:06.880510Z"
    },
    "papermill": {
     "duration": 0.119927,
     "end_time": "2022-09-07T20:38:06.882987",
     "exception": false,
     "start_time": "2022-09-07T20:38:06.763060",
     "status": "completed"
    },
    "tags": []
   },
   "outputs": [
    {
     "data": {
      "text/plain": [
       "tensor([ 0.1927, -0.6239,  0.0979,  0.2056,  0.0968,  0.0066,  0.1306,  0.3476,  0.1613, -0.6285])"
      ]
     },
     "execution_count": 27,
     "metadata": {},
     "output_type": "execute_result"
    }
   ],
   "source": [
    "preds[:10]"
   ]
  },
  {
   "cell_type": "markdown",
   "id": "ca46c148",
   "metadata": {
    "papermill": {
     "duration": 0.114174,
     "end_time": "2022-09-07T20:38:07.106834",
     "exception": false,
     "start_time": "2022-09-07T20:38:06.992660",
     "status": "completed"
    },
    "tags": []
   },
   "source": [
    "Of course, these predictions aren't going to be any use, since our coefficients are random -- they're just a starting point for our gradient descent process.\n",
    "\n",
    "To do gradient descent, we need a loss function. Taking the average error of the rows (i.e. the absolute value of the difference between the prediction and the dependent) is generally a reasonable approach:"
   ]
  },
  {
   "cell_type": "code",
   "execution_count": 28,
   "id": "1b0e9da8",
   "metadata": {
    "execution": {
     "iopub.execute_input": "2022-09-07T20:38:07.328839Z",
     "iopub.status.busy": "2022-09-07T20:38:07.328577Z",
     "iopub.status.idle": "2022-09-07T20:38:07.339743Z",
     "shell.execute_reply": "2022-09-07T20:38:07.338991Z"
    },
    "papermill": {
     "duration": 0.125069,
     "end_time": "2022-09-07T20:38:07.341585",
     "exception": false,
     "start_time": "2022-09-07T20:38:07.216516",
     "status": "completed"
    },
    "tags": []
   },
   "outputs": [
    {
     "data": {
      "text/plain": [
       "tensor(0.5382)"
      ]
     },
     "execution_count": 28,
     "metadata": {},
     "output_type": "execute_result"
    }
   ],
   "source": [
    "# Mean absolute value loss function. Easy one to just get something out there.\n",
    "loss = torch.abs(preds-t_dep).mean()\n",
    "loss"
   ]
  },
  {
   "cell_type": "markdown",
   "id": "fcf943de",
   "metadata": {
    "papermill": {
     "duration": 0.110422,
     "end_time": "2022-09-07T20:38:07.562025",
     "exception": false,
     "start_time": "2022-09-07T20:38:07.451603",
     "status": "completed"
    },
    "tags": []
   },
   "source": [
    "Now that we've tested out a way of calculating predictions, and loss, let's pop them into functions to make life easier:"
   ]
  },
  {
   "cell_type": "code",
   "execution_count": 29,
   "id": "856dbb7f",
   "metadata": {
    "execution": {
     "iopub.execute_input": "2022-09-07T20:38:07.784090Z",
     "iopub.status.busy": "2022-09-07T20:38:07.783639Z",
     "iopub.status.idle": "2022-09-07T20:38:07.787900Z",
     "shell.execute_reply": "2022-09-07T20:38:07.787251Z"
    },
    "papermill": {
     "duration": 0.118114,
     "end_time": "2022-09-07T20:38:07.789608",
     "exception": false,
     "start_time": "2022-09-07T20:38:07.671494",
     "status": "completed"
    },
    "tags": []
   },
   "outputs": [],
   "source": [
    "def calculate_predictions(coeffs, indeps): return (indeps*coeffs).sum(axis=1)\n",
    "def calculate_loss(coeffs, indeps, deps): return torch.abs(calculate_predictions(coeffs, indeps)-deps).mean()"
   ]
  },
  {
   "cell_type": "markdown",
   "id": "1cf5efa1",
   "metadata": {
    "papermill": {
     "duration": 0.108754,
     "end_time": "2022-09-07T20:38:08.007892",
     "exception": false,
     "start_time": "2022-09-07T20:38:07.899138",
     "status": "completed"
    },
    "tags": []
   },
   "source": [
    "## Doing a gradient descent step"
   ]
  },
  {
   "cell_type": "markdown",
   "id": "e20f855c",
   "metadata": {
    "papermill": {
     "duration": 0.110302,
     "end_time": "2022-09-07T20:38:08.279998",
     "exception": false,
     "start_time": "2022-09-07T20:38:08.169696",
     "status": "completed"
    },
    "tags": []
   },
   "source": [
    "In this section, we're going to do a single \"epoch\" of gradient descent manually. The only thing we're going to automate is calculating gradients, because let's face it that's pretty tedious and entirely pointless to do by hand! To get PyTorch to calculate gradients, we'll need to call `requires_grad_()` on our `coeffs` (if you're not sure why, review the previous notebook, [How does a neural net really work?](https://www.kaggle.com/code/jhoward/how-does-a-neural-net-really-work), before continuing):"
   ]
  },
  {
   "cell_type": "code",
   "execution_count": 30,
   "id": "56c8f66f",
   "metadata": {
    "execution": {
     "iopub.execute_input": "2022-09-07T20:38:08.506068Z",
     "iopub.status.busy": "2022-09-07T20:38:08.505625Z",
     "iopub.status.idle": "2022-09-07T20:38:08.511781Z",
     "shell.execute_reply": "2022-09-07T20:38:08.511073Z"
    },
    "papermill": {
     "duration": 0.122815,
     "end_time": "2022-09-07T20:38:08.513518",
     "exception": false,
     "start_time": "2022-09-07T20:38:08.390703",
     "status": "completed"
    },
    "tags": []
   },
   "outputs": [
    {
     "data": {
      "text/plain": [
       "tensor([-0.4629,  0.1386,  0.2409, -0.2262, -0.2632, -0.3147,  0.4876,  0.3136,  0.2799, -0.4392,  0.2103,  0.3625], requires_grad=True)"
      ]
     },
     "execution_count": 30,
     "metadata": {},
     "output_type": "execute_result"
    }
   ],
   "source": [
    "# In PyTorch, if there's an '_' at the end, it's an in-place operation and will change the variable directly, versus leave\n",
    "# the variable unchanged.\n",
    "coeffs.requires_grad_()"
   ]
  },
  {
   "cell_type": "markdown",
   "id": "8f23e782",
   "metadata": {
    "papermill": {
     "duration": 0.116148,
     "end_time": "2022-09-07T20:38:08.742772",
     "exception": false,
     "start_time": "2022-09-07T20:38:08.626624",
     "status": "completed"
    },
    "tags": []
   },
   "source": [
    "Now when we calculate our loss, PyTorch will keep track of all the steps, so we'll be able to get the gradients afterwards:"
   ]
  },
  {
   "cell_type": "code",
   "execution_count": 31,
   "id": "1c31ffc5",
   "metadata": {
    "execution": {
     "iopub.execute_input": "2022-09-07T20:38:08.973211Z",
     "iopub.status.busy": "2022-09-07T20:38:08.972643Z",
     "iopub.status.idle": "2022-09-07T20:38:08.980425Z",
     "shell.execute_reply": "2022-09-07T20:38:08.979686Z"
    },
    "papermill": {
     "duration": 0.127101,
     "end_time": "2022-09-07T20:38:08.982420",
     "exception": false,
     "start_time": "2022-09-07T20:38:08.855319",
     "status": "completed"
    },
    "tags": []
   },
   "outputs": [
    {
     "data": {
      "text/plain": [
       "tensor(0.5382, grad_fn=<MeanBackward0>)"
      ]
     },
     "execution_count": 31,
     "metadata": {},
     "output_type": "execute_result"
    }
   ],
   "source": [
    "loss = calculate_loss(coeffs, t_indep, t_dep)\n",
    "loss"
   ]
  },
  {
   "cell_type": "markdown",
   "id": "fca120c1",
   "metadata": {
    "papermill": {
     "duration": 0.112175,
     "end_time": "2022-09-07T20:38:09.207702",
     "exception": false,
     "start_time": "2022-09-07T20:38:09.095527",
     "status": "completed"
    },
    "tags": []
   },
   "source": [
    "With requires_grad=True, Python knows now what it needs to do to go backward from the loss values to get the gradient values.\n",
    "Use `backward()` to ask PyTorch to calculate gradients now, from the loss values:"
   ]
  },
  {
   "cell_type": "code",
   "execution_count": 32,
   "id": "ce9a02f4",
   "metadata": {
    "execution": {
     "iopub.execute_input": "2022-09-07T20:38:09.434713Z",
     "iopub.status.busy": "2022-09-07T20:38:09.434275Z",
     "iopub.status.idle": "2022-09-07T20:38:09.504085Z",
     "shell.execute_reply": "2022-09-07T20:38:09.503299Z"
    },
    "papermill": {
     "duration": 0.185594,
     "end_time": "2022-09-07T20:38:09.506296",
     "exception": false,
     "start_time": "2022-09-07T20:38:09.320702",
     "status": "completed"
    },
    "tags": []
   },
   "outputs": [],
   "source": [
    "loss.backward()"
   ]
  },
  {
   "cell_type": "markdown",
   "id": "21695fbe",
   "metadata": {
    "papermill": {
     "duration": 0.11236,
     "end_time": "2022-09-07T20:38:09.730818",
     "exception": false,
     "start_time": "2022-09-07T20:38:09.618458",
     "status": "completed"
    },
    "tags": []
   },
   "source": [
    "backward() will put the values into a variable that exists on the coeffs variable. You can access it with `coeffs.grad`\n",
    "Let's see what they look like:"
   ]
  },
  {
   "cell_type": "code",
   "execution_count": 33,
   "id": "9aacc84e",
   "metadata": {
    "execution": {
     "iopub.execute_input": "2022-09-07T20:38:09.958981Z",
     "iopub.status.busy": "2022-09-07T20:38:09.958292Z",
     "iopub.status.idle": "2022-09-07T20:38:09.964480Z",
     "shell.execute_reply": "2022-09-07T20:38:09.963732Z"
    },
    "papermill": {
     "duration": 0.122399,
     "end_time": "2022-09-07T20:38:09.966498",
     "exception": false,
     "start_time": "2022-09-07T20:38:09.844099",
     "status": "completed"
    },
    "tags": []
   },
   "outputs": [
    {
     "data": {
      "text/plain": [
       "tensor([-0.0106,  0.0129, -0.0041, -0.0484,  0.2099, -0.2132, -0.1212, -0.0247,  0.1425, -0.1886, -0.0191,  0.2043])"
      ]
     },
     "execution_count": 33,
     "metadata": {},
     "output_type": "execute_result"
    }
   ],
   "source": [
    "# The coefficients' gradients\n",
    "coeffs.grad"
   ]
  },
  {
   "cell_type": "markdown",
   "id": "00d5c105",
   "metadata": {
    "papermill": {
     "duration": 0.195234,
     "end_time": "2022-09-07T20:38:10.281761",
     "exception": false,
     "start_time": "2022-09-07T20:38:10.086527",
     "status": "completed"
    },
    "tags": []
   },
   "source": [
    "Note that each time we call `backward`, the gradients are actually *added* to whatever is in the `.grad` attribute. Let's try running the above steps again:"
   ]
  },
  {
   "cell_type": "code",
   "execution_count": 34,
   "id": "dc89afd5",
   "metadata": {
    "execution": {
     "iopub.execute_input": "2022-09-07T20:38:10.628554Z",
     "iopub.status.busy": "2022-09-07T20:38:10.627777Z",
     "iopub.status.idle": "2022-09-07T20:38:10.638952Z",
     "shell.execute_reply": "2022-09-07T20:38:10.638287Z"
    },
    "papermill": {
     "duration": 0.191461,
     "end_time": "2022-09-07T20:38:10.641521",
     "exception": false,
     "start_time": "2022-09-07T20:38:10.450060",
     "status": "completed"
    },
    "tags": []
   },
   "outputs": [
    {
     "data": {
      "text/plain": [
       "tensor([-0.0212,  0.0258, -0.0082, -0.0969,  0.4198, -0.4265, -0.2424, -0.0494,  0.2851, -0.3771, -0.0382,  0.4085])"
      ]
     },
     "execution_count": 34,
     "metadata": {},
     "output_type": "execute_result"
    }
   ],
   "source": [
    "loss = calculate_loss(coeffs, t_indep, t_dep)\n",
    "loss.backward()\n",
    "coeffs.grad"
   ]
  },
  {
   "cell_type": "markdown",
   "id": "c6486954",
   "metadata": {
    "papermill": {
     "duration": 0.163619,
     "end_time": "2022-09-07T20:38:10.986997",
     "exception": false,
     "start_time": "2022-09-07T20:38:10.823378",
     "status": "completed"
    },
    "tags": []
   },
   "source": [
    "As you see, our `.grad` values are have doubled. That's because it added the gradients a second time. For this reason, after we use the gradients to do a gradient descent step, we need to set them back to zero.\n",
    "\n",
    "We can now do one gradient descent step, and check that our loss decreases:"
   ]
  },
  {
   "cell_type": "code",
   "execution_count": 35,
   "id": "d8b9a643",
   "metadata": {
    "execution": {
     "iopub.execute_input": "2022-09-07T20:38:11.318714Z",
     "iopub.status.busy": "2022-09-07T20:38:11.318424Z",
     "iopub.status.idle": "2022-09-07T20:38:11.328894Z",
     "shell.execute_reply": "2022-09-07T20:38:11.328247Z"
    },
    "papermill": {
     "duration": 0.179584,
     "end_time": "2022-09-07T20:38:11.333502",
     "exception": false,
     "start_time": "2022-09-07T20:38:11.153918",
     "status": "completed"
    },
    "tags": []
   },
   "outputs": [
    {
     "name": "stdout",
     "output_type": "stream",
     "text": [
      "tensor(0.5043)\n"
     ]
    }
   ],
   "source": [
    "with torch.no_grad():\n",
    "    coeffs.sub_(coeffs.grad * 0.1) # 0.1 is the learning rate\n",
    "    coeffs.grad.zero_()\n",
    "    print(calculate_loss(coeffs, t_indep, t_dep))"
   ]
  },
  {
   "cell_type": "markdown",
   "id": "60f36202",
   "metadata": {
    "papermill": {
     "duration": 0.115956,
     "end_time": "2022-09-07T20:38:11.602704",
     "exception": false,
     "start_time": "2022-09-07T20:38:11.486748",
     "status": "completed"
    },
    "tags": []
   },
   "source": [
    "Note that `a.sub_(b)` subtracts `b` from `a` in-place. In PyTorch, any method that ends in `_` changes its object in-place. Similarly, `a.zero_()` sets all elements of a tensor to zero."
   ]
  },
  {
   "cell_type": "markdown",
   "id": "8ad8c31c",
   "metadata": {
    "papermill": {
     "duration": 0.115739,
     "end_time": "2022-09-07T20:38:11.830828",
     "exception": false,
     "start_time": "2022-09-07T20:38:11.715089",
     "status": "completed"
    },
    "tags": []
   },
   "source": [
    "## Training the linear model"
   ]
  },
  {
   "cell_type": "markdown",
   "id": "5b109249",
   "metadata": {
    "papermill": {
     "duration": 0.113138,
     "end_time": "2022-09-07T20:38:12.056665",
     "exception": false,
     "start_time": "2022-09-07T20:38:11.943527",
     "status": "completed"
    },
    "tags": []
   },
   "source": [
    "Before we begin training our model, we'll need to ensure that we hold out a validation set for calculating our metrics (for details on this, see \"[Getting started with NLP for absolute beginners](https://www.kaggle.com/code/jhoward/getting-started-with-nlp-for-absolute-beginners#Test-and-validation-sets)\".\n",
    "\n",
    "There's lots of different ways we can do this. In the next notebook we'll be comparing our approach here to what the fastai library does, so we'll want to ensure we split the data in the same way. So let's use `RandomSplitter` to get indices that will split our data into training and validation sets:"
   ]
  },
  {
   "cell_type": "code",
   "execution_count": 36,
   "id": "ac1f694c",
   "metadata": {
    "execution": {
     "iopub.execute_input": "2022-09-07T20:38:12.284669Z",
     "iopub.status.busy": "2022-09-07T20:38:12.284404Z",
     "iopub.status.idle": "2022-09-07T20:38:13.359063Z",
     "shell.execute_reply": "2022-09-07T20:38:13.358254Z"
    },
    "papermill": {
     "duration": 1.191798,
     "end_time": "2022-09-07T20:38:13.361952",
     "exception": false,
     "start_time": "2022-09-07T20:38:12.170154",
     "status": "completed"
    },
    "tags": []
   },
   "outputs": [],
   "source": [
    "from fastai.data.transforms import RandomSplitter\n",
    "trn_split,val_split=RandomSplitter(seed=42)(training_dataframe)"
   ]
  },
  {
   "cell_type": "markdown",
   "id": "2380ed0b",
   "metadata": {
    "papermill": {
     "duration": 0.126631,
     "end_time": "2022-09-07T20:38:13.603618",
     "exception": false,
     "start_time": "2022-09-07T20:38:13.476987",
     "status": "completed"
    },
    "tags": []
   },
   "source": [
    "Now we can apply those indicies to our independent and dependent variables:"
   ]
  },
  {
   "cell_type": "code",
   "execution_count": 37,
   "id": "a12343bf",
   "metadata": {
    "execution": {
     "iopub.execute_input": "2022-09-07T20:38:13.836645Z",
     "iopub.status.busy": "2022-09-07T20:38:13.836380Z",
     "iopub.status.idle": "2022-09-07T20:38:13.846457Z",
     "shell.execute_reply": "2022-09-07T20:38:13.845706Z"
    },
    "papermill": {
     "duration": 0.130158,
     "end_time": "2022-09-07T20:38:13.848216",
     "exception": false,
     "start_time": "2022-09-07T20:38:13.718058",
     "status": "completed"
    },
    "tags": []
   },
   "outputs": [
    {
     "data": {
      "text/plain": [
       "(713, 178)"
      ]
     },
     "execution_count": 37,
     "metadata": {},
     "output_type": "execute_result"
    }
   ],
   "source": [
    "trn_indep,val_indep = t_indep[trn_split],t_indep[val_split]\n",
    "trn_dep,val_dep = t_dep[trn_split],t_dep[val_split]\n",
    "len(trn_indep),len(val_indep)"
   ]
  },
  {
   "cell_type": "markdown",
   "id": "7c72eb70",
   "metadata": {
    "papermill": {
     "duration": 0.113972,
     "end_time": "2022-09-07T20:38:14.075368",
     "exception": false,
     "start_time": "2022-09-07T20:38:13.961396",
     "status": "completed"
    },
    "tags": []
   },
   "source": [
    "We'll create functions for the three things we did manually above: updating `coeffs`, doing one full gradient descent step, and initilizing `coeffs` to random numbers:"
   ]
  },
  {
   "cell_type": "code",
   "execution_count": 38,
   "id": "e365c565",
   "metadata": {
    "execution": {
     "iopub.execute_input": "2022-09-07T20:38:14.305988Z",
     "iopub.status.busy": "2022-09-07T20:38:14.305430Z",
     "iopub.status.idle": "2022-09-07T20:38:14.309652Z",
     "shell.execute_reply": "2022-09-07T20:38:14.308975Z"
    },
    "papermill": {
     "duration": 0.121915,
     "end_time": "2022-09-07T20:38:14.311551",
     "exception": false,
     "start_time": "2022-09-07T20:38:14.189636",
     "status": "completed"
    },
    "tags": []
   },
   "outputs": [],
   "source": [
    "def update_coeffs(coeffs, lr):\n",
    "    coeffs.sub_(coeffs.grad * lr)\n",
    "    coeffs.grad.zero_()"
   ]
  },
  {
   "cell_type": "code",
   "execution_count": 39,
   "id": "b4ca32c8",
   "metadata": {
    "execution": {
     "iopub.execute_input": "2022-09-07T20:38:14.571680Z",
     "iopub.status.busy": "2022-09-07T20:38:14.571379Z",
     "iopub.status.idle": "2022-09-07T20:38:14.581325Z",
     "shell.execute_reply": "2022-09-07T20:38:14.580398Z"
    },
    "papermill": {
     "duration": 0.160013,
     "end_time": "2022-09-07T20:38:14.584871",
     "exception": false,
     "start_time": "2022-09-07T20:38:14.424858",
     "status": "completed"
    },
    "tags": []
   },
   "outputs": [],
   "source": [
    "def one_epoch(coeffs, lr):\n",
    "    loss = calculate_loss(coeffs, trn_indep, trn_dep)\n",
    "    loss.backward()\n",
    "    with torch.no_grad(): update_coeffs(coeffs, lr)\n",
    "    print(f\"{loss:.3f}\", end=\"; \")"
   ]
  },
  {
   "cell_type": "code",
   "execution_count": 40,
   "id": "02172916",
   "metadata": {
    "execution": {
     "iopub.execute_input": "2022-09-07T20:38:14.963871Z",
     "iopub.status.busy": "2022-09-07T20:38:14.963554Z",
     "iopub.status.idle": "2022-09-07T20:38:14.967583Z",
     "shell.execute_reply": "2022-09-07T20:38:14.966970Z"
    },
    "papermill": {
     "duration": 0.184339,
     "end_time": "2022-09-07T20:38:14.971042",
     "exception": false,
     "start_time": "2022-09-07T20:38:14.786703",
     "status": "completed"
    },
    "tags": []
   },
   "outputs": [],
   "source": [
    "def init_coeffs(): return (torch.rand(n_coeff)-0.5).requires_grad_()"
   ]
  },
  {
   "cell_type": "markdown",
   "id": "5f2ff060",
   "metadata": {
    "papermill": {
     "duration": 0.131874,
     "end_time": "2022-09-07T20:38:15.283200",
     "exception": false,
     "start_time": "2022-09-07T20:38:15.151326",
     "status": "completed"
    },
    "tags": []
   },
   "source": [
    "We can now use these functions to train our model:"
   ]
  },
  {
   "cell_type": "code",
   "execution_count": 41,
   "id": "70cebb0d",
   "metadata": {
    "execution": {
     "iopub.execute_input": "2022-09-07T20:38:15.544032Z",
     "iopub.status.busy": "2022-09-07T20:38:15.543205Z",
     "iopub.status.idle": "2022-09-07T20:38:15.548371Z",
     "shell.execute_reply": "2022-09-07T20:38:15.547522Z"
    },
    "papermill": {
     "duration": 0.13912,
     "end_time": "2022-09-07T20:38:15.550259",
     "exception": false,
     "start_time": "2022-09-07T20:38:15.411139",
     "status": "completed"
    },
    "tags": []
   },
   "outputs": [],
   "source": [
    "def train_model(epochs=30, lr=0.01):\n",
    "    torch.manual_seed(442)\n",
    "    coeffs = init_coeffs()\n",
    "    for i in range(epochs): one_epoch(coeffs, lr=lr)\n",
    "    return coeffs"
   ]
  },
  {
   "cell_type": "markdown",
   "id": "89b3356f",
   "metadata": {
    "papermill": {
     "duration": 0.12936,
     "end_time": "2022-09-07T20:38:15.808509",
     "exception": false,
     "start_time": "2022-09-07T20:38:15.679149",
     "status": "completed"
    },
    "tags": []
   },
   "source": [
    "Let's try it. Our loss will print at the end of every step, so we hope we'll see it going down:"
   ]
  },
  {
   "cell_type": "code",
   "execution_count": 42,
   "id": "6aa66af5",
   "metadata": {
    "execution": {
     "iopub.execute_input": "2022-09-07T20:38:16.064242Z",
     "iopub.status.busy": "2022-09-07T20:38:16.063781Z",
     "iopub.status.idle": "2022-09-07T20:38:16.080112Z",
     "shell.execute_reply": "2022-09-07T20:38:16.078988Z"
    },
    "papermill": {
     "duration": 0.146325,
     "end_time": "2022-09-07T20:38:16.082340",
     "exception": false,
     "start_time": "2022-09-07T20:38:15.936015",
     "status": "completed"
    },
    "tags": []
   },
   "outputs": [
    {
     "name": "stdout",
     "output_type": "stream",
     "text": [
      "0.536; 0.502; 0.477; 0.454; 0.431; 0.409; 0.388; 0.367; 0.349; 0.336; 0.330; 0.326; 0.329; 0.304; 0.314; 0.296; 0.300; 0.289; "
     ]
    }
   ],
   "source": [
    "coeffs = train_model(18, lr=0.2)"
   ]
  },
  {
   "cell_type": "markdown",
   "id": "eee33d00",
   "metadata": {
    "papermill": {
     "duration": 0.127001,
     "end_time": "2022-09-07T20:38:16.337540",
     "exception": false,
     "start_time": "2022-09-07T20:38:16.210539",
     "status": "completed"
    },
    "tags": []
   },
   "source": [
    "It does! This is a working linear model.\n",
    "\n",
    "Let's take a look at the coefficients for each column:"
   ]
  },
  {
   "cell_type": "code",
   "execution_count": 43,
   "id": "cd4664fa",
   "metadata": {
    "execution": {
     "iopub.execute_input": "2022-09-07T20:38:16.596556Z",
     "iopub.status.busy": "2022-09-07T20:38:16.595977Z",
     "iopub.status.idle": "2022-09-07T20:38:16.607059Z",
     "shell.execute_reply": "2022-09-07T20:38:16.606273Z"
    },
    "papermill": {
     "duration": 0.144499,
     "end_time": "2022-09-07T20:38:16.609153",
     "exception": false,
     "start_time": "2022-09-07T20:38:16.464654",
     "status": "completed"
    },
    "tags": []
   },
   "outputs": [
    {
     "data": {
      "text/plain": [
       "{'Age': tensor(-0.2694),\n",
       " 'SibSp': tensor(0.0901),\n",
       " 'Parch': tensor(0.2359),\n",
       " 'LogFare': tensor(0.0280),\n",
       " 'Sex_male': tensor(-0.3990),\n",
       " 'Sex_female': tensor(0.2345),\n",
       " 'Pclass_1': tensor(0.7232),\n",
       " 'Pclass_2': tensor(0.4112),\n",
       " 'Pclass_3': tensor(0.3601),\n",
       " 'Embarked_C': tensor(0.0955),\n",
       " 'Embarked_Q': tensor(0.2395),\n",
       " 'Embarked_S': tensor(0.2122)}"
      ]
     },
     "execution_count": 43,
     "metadata": {},
     "output_type": "execute_result"
    }
   ],
   "source": [
    "def show_coeffs(): return dict(zip(indep_cols, coeffs.requires_grad_(False)))\n",
    "show_coeffs()"
   ]
  },
  {
   "cell_type": "markdown",
   "id": "159e4536",
   "metadata": {
    "papermill": {
     "duration": 0.129745,
     "end_time": "2022-09-07T20:38:16.866297",
     "exception": false,
     "start_time": "2022-09-07T20:38:16.736552",
     "status": "completed"
    },
    "tags": []
   },
   "source": [
    "Good to eyeball this output to make sure it makes sense:\n",
    "- Older people had less chance of surviving\n",
    "- Males had less chance of surviving\n",
    "- Pclass 1 had a high chance of surviving"
   ]
  },
  {
   "cell_type": "markdown",
   "id": "62516825",
   "metadata": {
    "papermill": {
     "duration": 0.13337,
     "end_time": "2022-09-07T20:38:17.127854",
     "exception": false,
     "start_time": "2022-09-07T20:38:16.994484",
     "status": "completed"
    },
    "tags": []
   },
   "source": [
    "## Measuring accuracy"
   ]
  },
  {
   "cell_type": "markdown",
   "id": "63062a37",
   "metadata": {
    "papermill": {
     "duration": 0.126897,
     "end_time": "2022-09-07T20:38:17.390601",
     "exception": false,
     "start_time": "2022-09-07T20:38:17.263704",
     "status": "completed"
    },
    "tags": []
   },
   "source": [
    "The Kaggle competition is not, however, scored by absolute error (which is our loss function). It's scored by *accuracy* -- the proportion of rows where we correctly predict survival. Let's see how accurate we were on the validation set. First, calculate the predictions:"
   ]
  },
  {
   "cell_type": "code",
   "execution_count": 44,
   "id": "f0789fce",
   "metadata": {
    "execution": {
     "iopub.execute_input": "2022-09-07T20:38:17.650463Z",
     "iopub.status.busy": "2022-09-07T20:38:17.649750Z",
     "iopub.status.idle": "2022-09-07T20:38:17.654269Z",
     "shell.execute_reply": "2022-09-07T20:38:17.653383Z"
    },
    "papermill": {
     "duration": 0.137554,
     "end_time": "2022-09-07T20:38:17.656270",
     "exception": false,
     "start_time": "2022-09-07T20:38:17.518716",
     "status": "completed"
    },
    "tags": []
   },
   "outputs": [],
   "source": [
    "preds = calculate_predictions(coeffs, val_indep)"
   ]
  },
  {
   "cell_type": "markdown",
   "id": "41e9c794",
   "metadata": {
    "papermill": {
     "duration": 0.114863,
     "end_time": "2022-09-07T20:38:17.890201",
     "exception": false,
     "start_time": "2022-09-07T20:38:17.775338",
     "status": "completed"
    },
    "tags": []
   },
   "source": [
    "We'll assume that any passenger with a score of over `0.5` is predicted to survive. So that means we're correct for each row where `preds>0.5` is the same as the dependent variable:"
   ]
  },
  {
   "cell_type": "code",
   "execution_count": 45,
   "id": "ebc600c7",
   "metadata": {
    "execution": {
     "iopub.execute_input": "2022-09-07T20:38:18.120357Z",
     "iopub.status.busy": "2022-09-07T20:38:18.119804Z",
     "iopub.status.idle": "2022-09-07T20:38:18.126707Z",
     "shell.execute_reply": "2022-09-07T20:38:18.125950Z"
    },
    "papermill": {
     "duration": 0.124535,
     "end_time": "2022-09-07T20:38:18.128503",
     "exception": false,
     "start_time": "2022-09-07T20:38:18.003968",
     "status": "completed"
    },
    "tags": []
   },
   "outputs": [
    {
     "data": {
      "text/plain": [
       "tensor([ True,  True,  True,  True,  True,  True,  True,  True,  True,  True, False, False, False,  True,  True, False])"
      ]
     },
     "execution_count": 45,
     "metadata": {},
     "output_type": "execute_result"
    }
   ],
   "source": [
    "#         actual values     Grabbing our results over 0.5, saying that >= 0.5 we'll call as means we predicted survival.\n",
    "#                           This is arbitrary and we could say >= 0.8 or other.\n",
    "results = val_dep.bool()==(preds>0.5)\n",
    "results[:16]"
   ]
  },
  {
   "cell_type": "markdown",
   "id": "639bda04",
   "metadata": {
    "papermill": {
     "duration": 0.113702,
     "end_time": "2022-09-07T20:38:18.355155",
     "exception": false,
     "start_time": "2022-09-07T20:38:18.241453",
     "status": "completed"
    },
    "tags": []
   },
   "source": [
    "Let's see what our average accuracy is:"
   ]
  },
  {
   "cell_type": "code",
   "execution_count": 46,
   "id": "c3a54c4d",
   "metadata": {
    "execution": {
     "iopub.execute_input": "2022-09-07T20:38:18.595144Z",
     "iopub.status.busy": "2022-09-07T20:38:18.594313Z",
     "iopub.status.idle": "2022-09-07T20:38:18.600897Z",
     "shell.execute_reply": "2022-09-07T20:38:18.600118Z"
    },
    "papermill": {
     "duration": 0.132582,
     "end_time": "2022-09-07T20:38:18.602690",
     "exception": false,
     "start_time": "2022-09-07T20:38:18.470108",
     "status": "completed"
    },
    "tags": []
   },
   "outputs": [
    {
     "data": {
      "text/plain": [
       "tensor(0.7865)"
      ]
     },
     "execution_count": 46,
     "metadata": {},
     "output_type": "execute_result"
    }
   ],
   "source": [
    "results.float().mean()"
   ]
  },
  {
   "cell_type": "markdown",
   "id": "4183d2dc",
   "metadata": {
    "papermill": {
     "duration": 0.114182,
     "end_time": "2022-09-07T20:38:18.829286",
     "exception": false,
     "start_time": "2022-09-07T20:38:18.715104",
     "status": "completed"
    },
    "tags": []
   },
   "source": [
    "tensor(0.7865) means we were right 78.65% of the time.\n",
    "\n",
    "That's not a bad start at all! We'll create a function so we can calcuate the accuracy easy for other models we train:"
   ]
  },
  {
   "cell_type": "code",
   "execution_count": 47,
   "id": "1bd329dd",
   "metadata": {
    "execution": {
     "iopub.execute_input": "2022-09-07T20:38:19.066361Z",
     "iopub.status.busy": "2022-09-07T20:38:19.066092Z",
     "iopub.status.idle": "2022-09-07T20:38:19.073069Z",
     "shell.execute_reply": "2022-09-07T20:38:19.072322Z"
    },
    "papermill": {
     "duration": 0.125328,
     "end_time": "2022-09-07T20:38:19.074864",
     "exception": false,
     "start_time": "2022-09-07T20:38:18.949536",
     "status": "completed"
    },
    "tags": []
   },
   "outputs": [
    {
     "data": {
      "text/plain": [
       "tensor(0.7865)"
      ]
     },
     "execution_count": 47,
     "metadata": {},
     "output_type": "execute_result"
    }
   ],
   "source": [
    "def acc(coeffs): return (val_dep.bool()==(calculate_predictions(coeffs, val_indep)>0.5)).float().mean()\n",
    "acc(coeffs)"
   ]
  },
  {
   "cell_type": "markdown",
   "id": "f1cbe7b7",
   "metadata": {
    "papermill": {
     "duration": 0.11271,
     "end_time": "2022-09-07T20:38:19.301012",
     "exception": false,
     "start_time": "2022-09-07T20:38:19.188302",
     "status": "completed"
    },
    "tags": []
   },
   "source": [
    "## Using sigmoid"
   ]
  },
  {
   "cell_type": "markdown",
   "id": "f72198da",
   "metadata": {
    "papermill": {
     "duration": 0.114335,
     "end_time": "2022-09-07T20:38:19.529056",
     "exception": false,
     "start_time": "2022-09-07T20:38:19.414721",
     "status": "completed"
    },
    "tags": []
   },
   "source": [
    "Looking at our predictions, there's one obvious problem -- some of our predictions of the probability of survival are `>1`, and some are `<0`:"
   ]
  },
  {
   "cell_type": "code",
   "execution_count": 48,
   "id": "7510a9e6",
   "metadata": {
    "execution": {
     "iopub.execute_input": "2022-09-07T20:38:19.760556Z",
     "iopub.status.busy": "2022-09-07T20:38:19.760300Z",
     "iopub.status.idle": "2022-09-07T20:38:19.766563Z",
     "shell.execute_reply": "2022-09-07T20:38:19.765813Z"
    },
    "papermill": {
     "duration": 0.122485,
     "end_time": "2022-09-07T20:38:19.768298",
     "exception": false,
     "start_time": "2022-09-07T20:38:19.645813",
     "status": "completed"
    },
    "tags": []
   },
   "outputs": [
    {
     "data": {
      "text/plain": [
       "tensor([ 0.8160,  0.1295, -0.0148,  0.1831,  0.1520,  0.1350,  0.7279,  0.7754,  0.3222,  0.6740,  0.0753,  0.0389,  0.2216,  0.7631,\n",
       "         0.0678,  0.3997,  0.3324,  0.8278,  0.1078,  0.7126,  0.1023,  0.3627,  0.9937,  0.8050,  0.1153,  0.1455,  0.8652,  0.3425])"
      ]
     },
     "execution_count": 48,
     "metadata": {},
     "output_type": "execute_result"
    }
   ],
   "source": [
    "preds[:28]"
   ]
  },
  {
   "cell_type": "markdown",
   "id": "3097d683",
   "metadata": {
    "papermill": {
     "duration": 0.121596,
     "end_time": "2022-09-07T20:38:20.005086",
     "exception": false,
     "start_time": "2022-09-07T20:38:19.883490",
     "status": "completed"
    },
    "tags": []
   },
   "source": [
    "To fix this, we should pass every prediction through the *sigmoid function*, which has a minimum at zero and maximum at one, and is defined as follows:"
   ]
  },
  {
   "cell_type": "code",
   "execution_count": 49,
   "id": "bfc0b3e3",
   "metadata": {
    "execution": {
     "iopub.execute_input": "2022-09-07T20:38:20.232979Z",
     "iopub.status.busy": "2022-09-07T20:38:20.232684Z",
     "iopub.status.idle": "2022-09-07T20:38:21.213679Z",
     "shell.execute_reply": "2022-09-07T20:38:21.212809Z"
    },
    "papermill": {
     "duration": 1.096486,
     "end_time": "2022-09-07T20:38:21.215621",
     "exception": false,
     "start_time": "2022-09-07T20:38:20.119135",
     "status": "completed"
    },
    "tags": []
   },
   "outputs": [
    {
     "data": {
      "image/png": "[encoded data removed]",
      "text/plain": [
       "<Figure size 432x288 with 1 Axes>"
      ]
     },
     "metadata": {
      "needs_background": "light"
     },
     "output_type": "display_data"
    }
   ],
   "source": [
    "import sympy\n",
    "sympy.plot(\"1/(1+exp(-x))\", xlim=(-5,5));"
   ]
  },
  {
   "cell_type": "markdown",
   "id": "1f98fd5c",
   "metadata": {
    "papermill": {
     "duration": 0.113421,
     "end_time": "2022-09-07T20:38:21.445550",
     "exception": false,
     "start_time": "2022-09-07T20:38:21.332129",
     "status": "completed"
    },
    "tags": []
   },
   "source": [
    "PyTorch already defines that function for us, so we can modify `calculate_predictions` to use it:"
   ]
  },
  {
   "cell_type": "code",
   "execution_count": 50,
   "id": "11532d2b",
   "metadata": {
    "execution": {
     "iopub.execute_input": "2022-09-07T20:38:21.677129Z",
     "iopub.status.busy": "2022-09-07T20:38:21.675850Z",
     "iopub.status.idle": "2022-09-07T20:38:21.681102Z",
     "shell.execute_reply": "2022-09-07T20:38:21.680391Z"
    },
    "papermill": {
     "duration": 0.12251,
     "end_time": "2022-09-07T20:38:21.683173",
     "exception": false,
     "start_time": "2022-09-07T20:38:21.560663",
     "status": "completed"
    },
    "tags": []
   },
   "outputs": [],
   "source": [
    "def calculate_predictions(coeffs, indeps): return torch.sigmoid((indeps*coeffs).sum(axis=1))"
   ]
  },
  {
   "cell_type": "markdown",
   "id": "b95227fb",
   "metadata": {
    "papermill": {
     "duration": 0.115951,
     "end_time": "2022-09-07T20:38:21.914844",
     "exception": false,
     "start_time": "2022-09-07T20:38:21.798893",
     "status": "completed"
    },
    "tags": []
   },
   "source": [
    "Let's train a new model now, using this updated function to calculate predictions:"
   ]
  },
  {
   "cell_type": "code",
   "execution_count": 51,
   "id": "af02e13e",
   "metadata": {
    "execution": {
     "iopub.execute_input": "2022-09-07T20:38:22.148651Z",
     "iopub.status.busy": "2022-09-07T20:38:22.147975Z",
     "iopub.status.idle": "2022-09-07T20:38:22.169939Z",
     "shell.execute_reply": "2022-09-07T20:38:22.169202Z"
    },
    "papermill": {
     "duration": 0.139705,
     "end_time": "2022-09-07T20:38:22.171742",
     "exception": false,
     "start_time": "2022-09-07T20:38:22.032037",
     "status": "completed"
    },
    "tags": []
   },
   "outputs": [
    {
     "name": "stdout",
     "output_type": "stream",
     "text": [
      "0.510; 0.327; 0.294; 0.207; 0.201; 0.199; 0.198; 0.197; 0.196; 0.196; 0.196; 0.195; 0.195; 0.195; 0.195; 0.195; 0.195; 0.195; 0.194; 0.194; 0.194; 0.194; 0.194; 0.194; 0.194; 0.194; 0.194; 0.194; 0.194; 0.194; "
     ]
    }
   ],
   "source": [
    "coeffs = train_model(lr=100)"
   ]
  },
  {
   "cell_type": "markdown",
   "id": "a894a8b6",
   "metadata": {
    "papermill": {
     "duration": 0.113028,
     "end_time": "2022-09-07T20:38:22.399984",
     "exception": false,
     "start_time": "2022-09-07T20:38:22.286956",
     "status": "completed"
    },
    "tags": []
   },
   "source": [
    "The loss has improved by a lot. Let's check the accuracy:"
   ]
  },
  {
   "cell_type": "code",
   "execution_count": 52,
   "id": "488c9de2",
   "metadata": {
    "execution": {
     "iopub.execute_input": "2022-09-07T20:38:22.631862Z",
     "iopub.status.busy": "2022-09-07T20:38:22.631590Z",
     "iopub.status.idle": "2022-09-07T20:38:22.638450Z",
     "shell.execute_reply": "2022-09-07T20:38:22.637685Z"
    },
    "papermill": {
     "duration": 0.125107,
     "end_time": "2022-09-07T20:38:22.640237",
     "exception": false,
     "start_time": "2022-09-07T20:38:22.515130",
     "status": "completed"
    },
    "tags": []
   },
   "outputs": [
    {
     "data": {
      "text/plain": [
       "tensor(0.8258)"
      ]
     },
     "execution_count": 52,
     "metadata": {},
     "output_type": "execute_result"
    }
   ],
   "source": [
    "acc(coeffs)"
   ]
  },
  {
   "cell_type": "markdown",
   "id": "7ddd9ea1",
   "metadata": {
    "papermill": {
     "duration": 0.115257,
     "end_time": "2022-09-07T20:38:22.870240",
     "exception": false,
     "start_time": "2022-09-07T20:38:22.754983",
     "status": "completed"
    },
    "tags": []
   },
   "source": [
    "That's improved too! Here's the coefficients of our trained model:"
   ]
  },
  {
   "cell_type": "code",
   "execution_count": 53,
   "id": "887fc0b2",
   "metadata": {
    "execution": {
     "iopub.execute_input": "2022-09-07T20:38:23.104150Z",
     "iopub.status.busy": "2022-09-07T20:38:23.103875Z",
     "iopub.status.idle": "2022-09-07T20:38:23.112340Z",
     "shell.execute_reply": "2022-09-07T20:38:23.111589Z"
    },
    "papermill": {
     "duration": 0.127526,
     "end_time": "2022-09-07T20:38:23.114116",
     "exception": false,
     "start_time": "2022-09-07T20:38:22.986590",
     "status": "completed"
    },
    "tags": []
   },
   "outputs": [
    {
     "data": {
      "text/plain": [
       "{'Age': tensor(-1.5061),\n",
       " 'SibSp': tensor(-1.1575),\n",
       " 'Parch': tensor(-0.4267),\n",
       " 'LogFare': tensor(0.2543),\n",
       " 'Sex_male': tensor(-10.3320),\n",
       " 'Sex_female': tensor(8.4185),\n",
       " 'Pclass_1': tensor(3.8389),\n",
       " 'Pclass_2': tensor(2.1398),\n",
       " 'Pclass_3': tensor(-6.2331),\n",
       " 'Embarked_C': tensor(1.4771),\n",
       " 'Embarked_Q': tensor(2.1168),\n",
       " 'Embarked_S': tensor(-4.7958)}"
      ]
     },
     "execution_count": 53,
     "metadata": {},
     "output_type": "execute_result"
    }
   ],
   "source": [
    "show_coeffs()"
   ]
  },
  {
   "cell_type": "markdown",
   "id": "d4f09bf8",
   "metadata": {
    "papermill": {
     "duration": 0.116716,
     "end_time": "2022-09-07T20:38:23.348045",
     "exception": false,
     "start_time": "2022-09-07T20:38:23.231329",
     "status": "completed"
    },
    "tags": []
   },
   "source": [
    "These coefficients seem reasonable -- in general, older people and males were less likely to survive, and first class passengers were more likely to survive."
   ]
  },
  {
   "cell_type": "markdown",
   "id": "19ae1edc",
   "metadata": {
    "papermill": {
     "duration": 0.116392,
     "end_time": "2022-09-07T20:38:23.582445",
     "exception": false,
     "start_time": "2022-09-07T20:38:23.466053",
     "status": "completed"
    },
    "tags": []
   },
   "source": [
    "## Submitting to Kaggle"
   ]
  },
  {
   "cell_type": "markdown",
   "id": "e9b1739c",
   "metadata": {
    "papermill": {
     "duration": 0.116419,
     "end_time": "2022-09-07T20:38:23.815004",
     "exception": false,
     "start_time": "2022-09-07T20:38:23.698585",
     "status": "completed"
    },
    "tags": []
   },
   "source": [
    "Now that we've got a trained model, we can prepare a submission to Kaggle. To do that, first we need to read the test set:"
   ]
  },
  {
   "cell_type": "code",
   "execution_count": 54,
   "id": "1267da5e",
   "metadata": {
    "execution": {
     "iopub.execute_input": "2022-09-07T20:38:24.049620Z",
     "iopub.status.busy": "2022-09-07T20:38:24.048917Z",
     "iopub.status.idle": "2022-09-07T20:38:24.061966Z",
     "shell.execute_reply": "2022-09-07T20:38:24.061272Z"
    },
    "papermill": {
     "duration": 0.131508,
     "end_time": "2022-09-07T20:38:24.063621",
     "exception": false,
     "start_time": "2022-09-07T20:38:23.932113",
     "status": "completed"
    },
    "tags": []
   },
   "outputs": [],
   "source": [
    "tst_df = pd.read_csv(path/'test.csv')"
   ]
  },
  {
   "cell_type": "markdown",
   "id": "74b4d147",
   "metadata": {
    "papermill": {
     "duration": 0.114935,
     "end_time": "2022-09-07T20:38:24.295690",
     "exception": false,
     "start_time": "2022-09-07T20:38:24.180755",
     "status": "completed"
    },
    "tags": []
   },
   "source": [
    "In this case, it turns out that the test set is missing `Fare` for one passenger. We'll just fill it with `0` to avoid problems:"
   ]
  },
  {
   "cell_type": "code",
   "execution_count": 55,
   "id": "1576cb0d",
   "metadata": {
    "execution": {
     "iopub.execute_input": "2022-09-07T20:38:24.537420Z",
     "iopub.status.busy": "2022-09-07T20:38:24.537076Z",
     "iopub.status.idle": "2022-09-07T20:38:24.542103Z",
     "shell.execute_reply": "2022-09-07T20:38:24.541263Z"
    },
    "papermill": {
     "duration": 0.133259,
     "end_time": "2022-09-07T20:38:24.544016",
     "exception": false,
     "start_time": "2022-09-07T20:38:24.410757",
     "status": "completed"
    },
    "tags": []
   },
   "outputs": [],
   "source": [
    "tst_df['Fare'] = tst_df.Fare.fillna(0)"
   ]
  },
  {
   "cell_type": "markdown",
   "id": "00c3affe",
   "metadata": {
    "papermill": {
     "duration": 0.115793,
     "end_time": "2022-09-07T20:38:24.783658",
     "exception": false,
     "start_time": "2022-09-07T20:38:24.667865",
     "status": "completed"
    },
    "tags": []
   },
   "source": [
    "Now we can just copy the same steps we did to our training set and do the same exact things on our test set to preprocess the data:"
   ]
  },
  {
   "cell_type": "code",
   "execution_count": 56,
   "id": "8fb7d33c",
   "metadata": {
    "execution": {
     "iopub.execute_input": "2022-09-07T20:38:25.018740Z",
     "iopub.status.busy": "2022-09-07T20:38:25.018478Z",
     "iopub.status.idle": "2022-09-07T20:38:25.037872Z",
     "shell.execute_reply": "2022-09-07T20:38:25.037163Z"
    },
    "papermill": {
     "duration": 0.139288,
     "end_time": "2022-09-07T20:38:25.040070",
     "exception": false,
     "start_time": "2022-09-07T20:38:24.900782",
     "status": "completed"
    },
    "tags": []
   },
   "outputs": [],
   "source": [
    "tst_df.fillna(modes, inplace=True)\n",
    "tst_df['LogFare'] = np.log(tst_df['Fare']+1)\n",
    "tst_df = pd.get_dummies(tst_df, columns=[\"Sex\",\"Pclass\",\"Embarked\"])\n",
    "\n",
    "tst_indep = tensor(tst_df[indep_cols].values, dtype=torch.float)\n",
    "tst_indep = tst_indep / vals"
   ]
  },
  {
   "cell_type": "markdown",
   "id": "e814559b",
   "metadata": {
    "papermill": {
     "duration": 0.114558,
     "end_time": "2022-09-07T20:38:25.285995",
     "exception": false,
     "start_time": "2022-09-07T20:38:25.171437",
     "status": "completed"
    },
    "tags": []
   },
   "source": [
    "Let's calculate our predictions of which passengers survived in the test set:"
   ]
  },
  {
   "cell_type": "code",
   "execution_count": 57,
   "id": "ddb76877",
   "metadata": {
    "execution": {
     "iopub.execute_input": "2022-09-07T20:38:25.530862Z",
     "iopub.status.busy": "2022-09-07T20:38:25.530455Z",
     "iopub.status.idle": "2022-09-07T20:38:25.536974Z",
     "shell.execute_reply": "2022-09-07T20:38:25.536207Z"
    },
    "papermill": {
     "duration": 0.138233,
     "end_time": "2022-09-07T20:38:25.539247",
     "exception": false,
     "start_time": "2022-09-07T20:38:25.401014",
     "status": "completed"
    },
    "tags": []
   },
   "outputs": [],
   "source": [
    "tst_df['Survived'] = (calculate_predictions(tst_indep, coeffs)>0.5).int()"
   ]
  },
  {
   "cell_type": "markdown",
   "id": "e6658a2d",
   "metadata": {
    "papermill": {
     "duration": 0.17349,
     "end_time": "2022-09-07T20:38:25.925107",
     "exception": false,
     "start_time": "2022-09-07T20:38:25.751617",
     "status": "completed"
    },
    "tags": []
   },
   "source": [
    "The sample submission on the Kaggle competition site shows that we're expected to upload a CSV with just `PassengerId` and `Survived`, so let's create that and save it:"
   ]
  },
  {
   "cell_type": "code",
   "execution_count": 58,
   "id": "e4dc9031",
   "metadata": {
    "execution": {
     "iopub.execute_input": "2022-09-07T20:38:26.223558Z",
     "iopub.status.busy": "2022-09-07T20:38:26.223291Z",
     "iopub.status.idle": "2022-09-07T20:38:26.233039Z",
     "shell.execute_reply": "2022-09-07T20:38:26.232372Z"
    },
    "papermill": {
     "duration": 0.127167,
     "end_time": "2022-09-07T20:38:26.234801",
     "exception": false,
     "start_time": "2022-09-07T20:38:26.107634",
     "status": "completed"
    },
    "tags": []
   },
   "outputs": [],
   "source": [
    "sub_df = tst_df[['PassengerId','Survived']]\n",
    "if on_kaggle: sub_df.to_csv('submission.csv', index=False)\n",
    "else: sub_df.to_csv(path/'submission.csv', index=False)"
   ]
  },
  {
   "cell_type": "markdown",
   "id": "48c56eb8",
   "metadata": {
    "papermill": {
     "duration": 0.115787,
     "end_time": "2022-09-07T20:38:26.464704",
     "exception": false,
     "start_time": "2022-09-07T20:38:26.348917",
     "status": "completed"
    },
    "tags": []
   },
   "source": [
    "We can check the first few rows of the file to make sure it looks reasonable:"
   ]
  },
  {
   "cell_type": "code",
   "execution_count": 59,
   "id": "3f09a60d",
   "metadata": {
    "execution": {
     "iopub.execute_input": "2022-09-07T20:38:26.741783Z",
     "iopub.status.busy": "2022-09-07T20:38:26.741518Z",
     "iopub.status.idle": "2022-09-07T20:38:27.721175Z",
     "shell.execute_reply": "2022-09-07T20:38:27.720279Z"
    },
    "papermill": {
     "duration": 1.100487,
     "end_time": "2022-09-07T20:38:27.723396",
     "exception": false,
     "start_time": "2022-09-07T20:38:26.622909",
     "status": "completed"
    },
    "tags": []
   },
   "outputs": [
    {
     "name": "stdout",
     "output_type": "stream",
     "text": [
      "PassengerId,Survived\r\n",
      "892,0\r\n",
      "893,0\r\n",
      "894,0\r\n",
      "895,0\r\n",
      "896,0\r\n",
      "897,0\r\n",
      "898,1\r\n",
      "899,0\r\n",
      "900,1\r\n"
     ]
    }
   ],
   "source": [
    "if on_kaggle:\n",
    "    !head submission.csv\n",
    "else:\n",
    "    !head data/submission.csv"
   ]
  },
  {
   "cell_type": "markdown",
   "id": "fc7e131e",
   "metadata": {
    "papermill": {
     "duration": 0.11731,
     "end_time": "2022-09-07T20:38:27.958023",
     "exception": false,
     "start_time": "2022-09-07T20:38:27.840713",
     "status": "completed"
    },
    "tags": []
   },
   "source": [
    "When you click \"save version\" in Kaggle, and wait for the notebook to run, you'll see that `submission.csv` appears in the \"Data\" tab. Clicking on that file will show a *Submit* button, which allows you to submit to the competition."
   ]
  },
  {
   "cell_type": "markdown",
   "id": "2c8a9a55",
   "metadata": {
    "papermill": {
     "duration": 0.116553,
     "end_time": "2022-09-07T20:38:28.191808",
     "exception": false,
     "start_time": "2022-09-07T20:38:28.075255",
     "status": "completed"
    },
    "tags": []
   },
   "source": [
    "## Using matrix product"
   ]
  },
  {
   "cell_type": "markdown",
   "id": "1f4f4744",
   "metadata": {
    "papermill": {
     "duration": 0.11569,
     "end_time": "2022-09-07T20:38:28.422082",
     "exception": false,
     "start_time": "2022-09-07T20:38:28.306392",
     "status": "completed"
    },
    "tags": []
   },
   "source": [
    "We can make things quite a bit neater...\n",
    "\n",
    "Take a look at the inner-most calculation we're doing to get the predictions:"
   ]
  },
  {
   "cell_type": "code",
   "execution_count": 60,
   "id": "0812421d",
   "metadata": {
    "execution": {
     "iopub.execute_input": "2022-09-07T20:38:28.654244Z",
     "iopub.status.busy": "2022-09-07T20:38:28.653923Z",
     "iopub.status.idle": "2022-09-07T20:38:28.662822Z",
     "shell.execute_reply": "2022-09-07T20:38:28.662106Z"
    },
    "papermill": {
     "duration": 0.127504,
     "end_time": "2022-09-07T20:38:28.664547",
     "exception": false,
     "start_time": "2022-09-07T20:38:28.537043",
     "status": "completed"
    },
    "tags": []
   },
   "outputs": [
    {
     "data": {
      "text/plain": [
       "tensor([ 12.3288, -14.8119, -15.4540, -13.1513, -13.3512, -13.6469,   3.6248,   5.3429, -22.0878,   3.1233, -21.8742, -15.6421, -21.5504,\n",
       "          3.9393, -21.9190, -12.0010, -12.3775,   5.3550, -13.5880,  -3.1015, -21.7237, -12.2081,  12.9767,   4.7427, -21.6525, -14.9135,\n",
       "         -2.7433, -12.3210, -21.5886,   3.9387,   5.3890,  -3.6196, -21.6296, -21.8454,  12.2159,  -3.2275, -12.0289,  13.4560, -21.7230,\n",
       "         -3.1366, -13.2462, -21.7230, -13.6831,  13.3092, -21.6477,  -3.5868, -21.6854, -21.8316, -14.8158,  -2.9386,  -5.3103, -22.2384,\n",
       "        -22.1097, -21.7466, -13.3780, -13.4909, -14.8119, -22.0690, -21.6666, -21.7818,  -5.4439, -21.7407, -12.6551, -21.6671,   4.9238,\n",
       "        -11.5777, -13.3323, -21.9638, -15.3030,   5.0243, -21.7614,   3.1820, -13.4721, -21.7170, -11.6066, -21.5737, -21.7230, -11.9652,\n",
       "        -13.2382, -13.7599, -13.2170,  13.1347, -21.7049, -21.7268,   4.9207,  -7.3198,  -5.3081,   7.1065,  11.4948, -13.3135, -21.8723,\n",
       "        -21.7230,  13.3603, -15.5670,   3.4105,  -7.2857, -13.7197,   3.6909,   3.9763, -14.7227, -21.8268,   3.9387, -21.8743, -21.8367,\n",
       "        -11.8518, -13.6712, -21.8299,   4.9440,  -5.4471, -21.9666,   5.1333,  -3.2187, -11.6008,  13.7920, -21.7230,  12.6369,  -3.7268,\n",
       "        -14.8119, -22.0637,  12.9468, -22.1610,  -6.1827, -14.8119,  -3.2838, -15.4540, -11.6950,  -2.9926,  -3.0110, -21.5664, -13.8268,\n",
       "          7.3426, -21.8418,   5.0744,   5.2582,  13.3415, -21.6289, -13.9898, -21.8112,  -7.3316,   5.2296, -13.4453,  12.7891, -22.1235,\n",
       "        -14.9625,  -3.4339,   6.3089, -21.9839,   3.1968,   7.2400,   2.8558,  -3.1187,   3.7965,   5.4667, -15.1101, -15.0597, -22.9391,\n",
       "        -21.7230,  -3.0346, -13.5206, -21.7011,  13.4425,  -7.2690, -21.8335, -12.0582,  13.0489,   6.7993,   5.2160,   5.0794, -12.6957,\n",
       "        -12.1838,  -3.0873, -21.6070,   7.0744, -21.7170, -22.1001,   6.8159, -11.6002, -21.6310])"
      ]
     },
     "execution_count": 60,
     "metadata": {},
     "output_type": "execute_result"
    }
   ],
   "source": [
    "(val_indep*coeffs).sum(axis=1)"
   ]
  },
  {
   "cell_type": "markdown",
   "id": "043b5bfc",
   "metadata": {
    "papermill": {
     "duration": 0.117143,
     "end_time": "2022-09-07T20:38:28.898661",
     "exception": false,
     "start_time": "2022-09-07T20:38:28.781518",
     "status": "completed"
    },
    "tags": []
   },
   "source": [
    "Multiplying elements together and then adding across rows is identical to doing a matrix-vector product! Python uses the `@` operator to indicate matrix products, and is supported by PyTorch tensors. Python didn't have an official implementation for\n",
    "the `@` operator, just a definition; since the variables here are tensors, it will use PyTorch's implementation. Therefore,\n",
    "we can replicate the above calculate more simply like so:"
   ]
  },
  {
   "cell_type": "code",
   "execution_count": 61,
   "id": "1d43bf6e",
   "metadata": {
    "execution": {
     "iopub.execute_input": "2022-09-07T20:38:29.133836Z",
     "iopub.status.busy": "2022-09-07T20:38:29.133565Z",
     "iopub.status.idle": "2022-09-07T20:38:29.176730Z",
     "shell.execute_reply": "2022-09-07T20:38:29.176004Z"
    },
    "papermill": {
     "duration": 0.162679,
     "end_time": "2022-09-07T20:38:29.178688",
     "exception": false,
     "start_time": "2022-09-07T20:38:29.016009",
     "status": "completed"
    },
    "tags": []
   },
   "outputs": [
    {
     "data": {
      "text/plain": [
       "tensor([ 12.3288, -14.8119, -15.4540, -13.1513, -13.3511, -13.6468,   3.6248,   5.3429, -22.0878,   3.1233, -21.8742, -15.6421, -21.5504,\n",
       "          3.9393, -21.9190, -12.0010, -12.3775,   5.3550, -13.5880,  -3.1015, -21.7237, -12.2081,  12.9767,   4.7427, -21.6525, -14.9135,\n",
       "         -2.7433, -12.3210, -21.5886,   3.9387,   5.3890,  -3.6196, -21.6296, -21.8454,  12.2159,  -3.2275, -12.0289,  13.4560, -21.7230,\n",
       "         -3.1366, -13.2462, -21.7230, -13.6831,  13.3092, -21.6477,  -3.5868, -21.6854, -21.8316, -14.8158,  -2.9386,  -5.3103, -22.2384,\n",
       "        -22.1097, -21.7466, -13.3780, -13.4909, -14.8119, -22.0690, -21.6666, -21.7818,  -5.4439, -21.7407, -12.6551, -21.6671,   4.9238,\n",
       "        -11.5777, -13.3323, -21.9638, -15.3030,   5.0243, -21.7614,   3.1820, -13.4721, -21.7170, -11.6066, -21.5737, -21.7230, -11.9652,\n",
       "        -13.2382, -13.7599, -13.2170,  13.1347, -21.7049, -21.7268,   4.9207,  -7.3198,  -5.3081,   7.1065,  11.4948, -13.3135, -21.8723,\n",
       "        -21.7230,  13.3603, -15.5670,   3.4105,  -7.2857, -13.7197,   3.6909,   3.9763, -14.7227, -21.8268,   3.9387, -21.8743, -21.8367,\n",
       "        -11.8518, -13.6712, -21.8299,   4.9440,  -5.4471, -21.9666,   5.1333,  -3.2187, -11.6008,  13.7920, -21.7230,  12.6369,  -3.7268,\n",
       "        -14.8119, -22.0637,  12.9468, -22.1610,  -6.1827, -14.8119,  -3.2838, -15.4540, -11.6950,  -2.9926,  -3.0110, -21.5664, -13.8268,\n",
       "          7.3426, -21.8418,   5.0744,   5.2582,  13.3415, -21.6289, -13.9898, -21.8112,  -7.3316,   5.2296, -13.4453,  12.7891, -22.1235,\n",
       "        -14.9625,  -3.4339,   6.3089, -21.9839,   3.1968,   7.2400,   2.8558,  -3.1187,   3.7965,   5.4667, -15.1101, -15.0597, -22.9391,\n",
       "        -21.7230,  -3.0346, -13.5206, -21.7011,  13.4425,  -7.2690, -21.8335, -12.0582,  13.0489,   6.7993,   5.2160,   5.0794, -12.6957,\n",
       "        -12.1838,  -3.0873, -21.6070,   7.0744, -21.7170, -22.1001,   6.8159, -11.6002, -21.6310])"
      ]
     },
     "execution_count": 61,
     "metadata": {},
     "output_type": "execute_result"
    }
   ],
   "source": [
    "val_indep@coeffs"
   ]
  },
  {
   "cell_type": "markdown",
   "id": "8ec1febf",
   "metadata": {
    "papermill": {
     "duration": 0.116515,
     "end_time": "2022-09-07T20:38:29.415044",
     "exception": false,
     "start_time": "2022-09-07T20:38:29.298529",
     "status": "completed"
    },
    "tags": []
   },
   "source": [
    "It also turns out that this is much faster, because matrix products in PyTorch are very highly optimised.\n",
    "\n",
    "Let's use this to replace how `calc_preds` works:"
   ]
  },
  {
   "cell_type": "code",
   "execution_count": 62,
   "id": "94ae8949",
   "metadata": {
    "execution": {
     "iopub.execute_input": "2022-09-07T20:38:29.648730Z",
     "iopub.status.busy": "2022-09-07T20:38:29.648459Z",
     "iopub.status.idle": "2022-09-07T20:38:29.652487Z",
     "shell.execute_reply": "2022-09-07T20:38:29.651776Z"
    },
    "papermill": {
     "duration": 0.123791,
     "end_time": "2022-09-07T20:38:29.654189",
     "exception": false,
     "start_time": "2022-09-07T20:38:29.530398",
     "status": "completed"
    },
    "tags": []
   },
   "outputs": [],
   "source": [
    "def calculate_predictions(coeffs, indeps): return torch.sigmoid(indeps@coeffs)"
   ]
  },
  {
   "cell_type": "markdown",
   "id": "6cfad9c8",
   "metadata": {
    "papermill": {
     "duration": 0.115489,
     "end_time": "2022-09-07T20:38:29.885630",
     "exception": false,
     "start_time": "2022-09-07T20:38:29.770141",
     "status": "completed"
    },
    "tags": []
   },
   "source": [
    "In order to do matrix-matrix products (which we'll need in the next section), we need to turn `coeffs` into a column vector. This allows us to do matrix multiplication. We can also say a matrix with a single column. \n",
    "\n",
    "Before it was an array of one row [1,2,3,4,5] we need to change it to look like this:\n",
    "```\n",
    "# From one row with n columns to n rows with one column: [1,2,3,4,5,...]\n",
    "[\n",
    "    1,\n",
    "    2,\n",
    "    3,\n",
    "    4,\n",
    "    5,\n",
    "    ...\n",
    "]\n",
    "```\n",
    "\n",
    "Which we can do by passing a second argument `1` to `torch.rand()`, indicating that we want our coefficients to have one column:"
   ]
  },
  {
   "cell_type": "code",
   "execution_count": 63,
   "id": "5d5d3b2a",
   "metadata": {
    "execution": {
     "iopub.execute_input": "2022-09-07T20:38:30.120671Z",
     "iopub.status.busy": "2022-09-07T20:38:30.120410Z",
     "iopub.status.idle": "2022-09-07T20:38:30.124330Z",
     "shell.execute_reply": "2022-09-07T20:38:30.123641Z"
    },
    "papermill": {
     "duration": 0.124113,
     "end_time": "2022-09-07T20:38:30.126197",
     "exception": false,
     "start_time": "2022-09-07T20:38:30.002084",
     "status": "completed"
    },
    "tags": []
   },
   "outputs": [],
   "source": [
    "def init_coeffs(): return (torch.rand(n_coeff, 1)*0.1).requires_grad_()"
   ]
  },
  {
   "cell_type": "markdown",
   "id": "0ef46a3b",
   "metadata": {
    "papermill": {
     "duration": 0.11631,
     "end_time": "2022-09-07T20:38:30.357768",
     "exception": false,
     "start_time": "2022-09-07T20:38:30.241458",
     "status": "completed"
    },
    "tags": []
   },
   "source": [
    "We'll also need to turn our dependent variable into a column vector, which we can do by indexing the column dimension with the special value `None`, which tells PyTorch to add a new dimension in this position. Effectively this does the above where it goes from an array of one row with n columns, to n rows with one column. This is also called transposing the matrix in math."
   ]
  },
  {
   "cell_type": "code",
   "execution_count": 64,
   "id": "0feb4bbe",
   "metadata": {
    "execution": {
     "iopub.execute_input": "2022-09-07T20:38:30.602917Z",
     "iopub.status.busy": "2022-09-07T20:38:30.602647Z",
     "iopub.status.idle": "2022-09-07T20:38:30.606549Z",
     "shell.execute_reply": "2022-09-07T20:38:30.605852Z"
    },
    "papermill": {
     "duration": 0.135042,
     "end_time": "2022-09-07T20:38:30.608358",
     "exception": false,
     "start_time": "2022-09-07T20:38:30.473316",
     "status": "completed"
    },
    "tags": []
   },
   "outputs": [],
   "source": [
    "trn_dep = trn_dep[:,None]\n",
    "val_dep = val_dep[:,None]"
   ]
  },
  {
   "cell_type": "code",
   "execution_count": 65,
   "id": "a015bdc1",
   "metadata": {
    "execution": {
     "iopub.execute_input": "2022-09-07T20:38:30.844533Z",
     "iopub.status.busy": "2022-09-07T20:38:30.844263Z",
     "iopub.status.idle": "2022-09-07T20:38:30.849478Z",
     "shell.execute_reply": "2022-09-07T20:38:30.848806Z"
    },
    "papermill": {
     "duration": 0.126797,
     "end_time": "2022-09-07T20:38:30.851455",
     "exception": false,
     "start_time": "2022-09-07T20:38:30.724658",
     "status": "completed"
    },
    "tags": []
   },
   "outputs": [
    {
     "data": {
      "text/plain": [
       "torch.Size([713, 1])"
      ]
     },
     "execution_count": 65,
     "metadata": {},
     "output_type": "execute_result"
    }
   ],
   "source": [
    "trn_dep.shape"
   ]
  },
  {
   "cell_type": "markdown",
   "id": "b98bf011",
   "metadata": {
    "papermill": {
     "duration": 0.116636,
     "end_time": "2022-09-07T20:38:31.084587",
     "exception": false,
     "start_time": "2022-09-07T20:38:30.967951",
     "status": "completed"
    },
    "tags": []
   },
   "source": [
    "The 1 axis, when it's just one, we call a unit axis."
   ]
  },
  {
   "cell_type": "markdown",
   "id": "8b6c51f7",
   "metadata": {
    "papermill": {
     "duration": 0.116734,
     "end_time": "2022-09-07T20:38:31.319433",
     "exception": false,
     "start_time": "2022-09-07T20:38:31.202699",
     "status": "completed"
    },
    "tags": []
   },
   "source": [
    "We can now train our model as before and confirm we get identical outputs...:"
   ]
  },
  {
   "cell_type": "code",
   "execution_count": 66,
   "id": "f84859e4",
   "metadata": {
    "execution": {
     "iopub.execute_input": "2022-09-07T20:38:31.554259Z",
     "iopub.status.busy": "2022-09-07T20:38:31.554000Z",
     "iopub.status.idle": "2022-09-07T20:38:31.575893Z",
     "shell.execute_reply": "2022-09-07T20:38:31.574998Z"
    },
    "papermill": {
     "duration": 0.141425,
     "end_time": "2022-09-07T20:38:31.577840",
     "exception": false,
     "start_time": "2022-09-07T20:38:31.436415",
     "status": "completed"
    },
    "tags": []
   },
   "outputs": [
    {
     "name": "stdout",
     "output_type": "stream",
     "text": [
      "0.512; 0.323; 0.290; 0.205; 0.200; 0.198; 0.197; 0.197; 0.196; 0.196; 0.196; 0.195; 0.195; 0.195; 0.195; 0.195; 0.195; 0.194; 0.194; 0.194; 0.194; 0.194; 0.194; 0.194; 0.194; 0.194; 0.194; 0.194; 0.194; 0.194; "
     ]
    }
   ],
   "source": [
    "coeffs = train_model(lr=100)"
   ]
  },
  {
   "cell_type": "markdown",
   "id": "ccc16a2c",
   "metadata": {
    "papermill": {
     "duration": 0.117004,
     "end_time": "2022-09-07T20:38:31.813446",
     "exception": false,
     "start_time": "2022-09-07T20:38:31.696442",
     "status": "completed"
    },
    "tags": []
   },
   "source": [
    "...and identical accuracy:"
   ]
  },
  {
   "cell_type": "code",
   "execution_count": 67,
   "id": "a7454432",
   "metadata": {
    "execution": {
     "iopub.execute_input": "2022-09-07T20:38:32.054299Z",
     "iopub.status.busy": "2022-09-07T20:38:32.053831Z",
     "iopub.status.idle": "2022-09-07T20:38:32.060322Z",
     "shell.execute_reply": "2022-09-07T20:38:32.059529Z"
    },
    "papermill": {
     "duration": 0.1289,
     "end_time": "2022-09-07T20:38:32.062160",
     "exception": false,
     "start_time": "2022-09-07T20:38:31.933260",
     "status": "completed"
    },
    "tags": []
   },
   "outputs": [
    {
     "data": {
      "text/plain": [
       "tensor(0.8258)"
      ]
     },
     "execution_count": 67,
     "metadata": {},
     "output_type": "execute_result"
    }
   ],
   "source": [
    "acc(coeffs)"
   ]
  },
  {
   "cell_type": "markdown",
   "id": "f8b27ea1",
   "metadata": {
    "papermill": {
     "duration": 0.117711,
     "end_time": "2022-09-07T20:38:32.300820",
     "exception": false,
     "start_time": "2022-09-07T20:38:32.183109",
     "status": "completed"
    },
    "tags": []
   },
   "source": [
    "The coefficients are now a column vector. Also known as, a rank 2 matrix with a trailing unit axis."
   ]
  },
  {
   "cell_type": "code",
   "execution_count": 68,
   "id": "66b2bd1d",
   "metadata": {
    "execution": {
     "iopub.execute_input": "2022-09-07T20:38:32.537073Z",
     "iopub.status.busy": "2022-09-07T20:38:32.536489Z",
     "iopub.status.idle": "2022-09-07T20:38:32.542339Z",
     "shell.execute_reply": "2022-09-07T20:38:32.541663Z"
    },
    "papermill": {
     "duration": 0.125703,
     "end_time": "2022-09-07T20:38:32.544077",
     "exception": false,
     "start_time": "2022-09-07T20:38:32.418374",
     "status": "completed"
    },
    "tags": []
   },
   "outputs": [
    {
     "data": {
      "text/plain": [
       "tensor([[ -1.1308],\n",
       "        [ -1.1755],\n",
       "        [ -0.6080],\n",
       "        [  0.4522],\n",
       "        [-10.1322],\n",
       "        [  8.6472],\n",
       "        [  3.4198],\n",
       "        [  1.8521],\n",
       "        [ -6.5410],\n",
       "        [  1.5472],\n",
       "        [  1.9993],\n",
       "        [ -4.9103]], requires_grad=True)"
      ]
     },
     "execution_count": 68,
     "metadata": {},
     "output_type": "execute_result"
    }
   ],
   "source": [
    "coeffs"
   ]
  },
  {
   "cell_type": "code",
   "execution_count": 69,
   "id": "d84879ab",
   "metadata": {
    "execution": {
     "iopub.execute_input": "2022-09-07T20:38:32.783227Z",
     "iopub.status.busy": "2022-09-07T20:38:32.782633Z",
     "iopub.status.idle": "2022-09-07T20:38:32.787652Z",
     "shell.execute_reply": "2022-09-07T20:38:32.787000Z"
    },
    "papermill": {
     "duration": 0.127208,
     "end_time": "2022-09-07T20:38:32.789632",
     "exception": false,
     "start_time": "2022-09-07T20:38:32.662424",
     "status": "completed"
    },
    "tags": []
   },
   "outputs": [
    {
     "data": {
      "text/plain": [
       "torch.Size([12, 1])"
      ]
     },
     "execution_count": 69,
     "metadata": {},
     "output_type": "execute_result"
    }
   ],
   "source": [
    "coeffs.shape"
   ]
  },
  {
   "cell_type": "markdown",
   "id": "839406de",
   "metadata": {
    "papermill": {
     "duration": 0.120425,
     "end_time": "2022-09-07T20:38:33.029029",
     "exception": false,
     "start_time": "2022-09-07T20:38:32.908604",
     "status": "completed"
    },
    "tags": []
   },
   "source": [
    "## A neural network"
   ]
  },
  {
   "cell_type": "markdown",
   "id": "2b7d3128",
   "metadata": {
    "papermill": {
     "duration": 0.117534,
     "end_time": "2022-09-07T20:38:33.265537",
     "exception": false,
     "start_time": "2022-09-07T20:38:33.148003",
     "status": "completed"
    },
    "tags": []
   },
   "source": [
    "We've now got what we need to implement our neural network.\n",
    "\n",
    "First, we'll need to create coefficients for each of our layers. Our first set of coefficients will take our `n_coeff` inputs, and create `n_hidden` outputs. We can choose whatever `n_hidden` we like -- a higher number gives our network more flexibility, but makes it slower and harder to train. So we need a matrix of size `n_coeff` by `n_hidden`. We'll divide these coefficients by `n_hidden` so that when we sum them up in the next layer we'll end up with similar magnitude numbers to what we started with.\n",
    "\n",
    "Then our second layer will need to take the `n_hidden` inputs and create a single output, so that means we need a `n_hidden` by `1` matrix there (a column vector). The second layer will also need a constant term added."
   ]
  },
  {
   "cell_type": "code",
   "execution_count": 70,
   "id": "717978de",
   "metadata": {
    "execution": {
     "iopub.execute_input": "2022-09-07T20:38:33.502626Z",
     "iopub.status.busy": "2022-09-07T20:38:33.502368Z",
     "iopub.status.idle": "2022-09-07T20:38:33.507835Z",
     "shell.execute_reply": "2022-09-07T20:38:33.507105Z"
    },
    "papermill": {
     "duration": 0.126025,
     "end_time": "2022-09-07T20:38:33.509536",
     "exception": false,
     "start_time": "2022-09-07T20:38:33.383511",
     "status": "completed"
    },
    "tags": []
   },
   "outputs": [],
   "source": [
    "def init_coeffs(n_hidden=20):\n",
    "    #                                       -v- Centralize the values by making them go from -0.5 to 0.5\n",
    "    layer1 = (torch.rand(n_coeff, n_hidden)-0.5)/n_hidden\n",
    "    # The coeffs can be too large, since we're summing them up\n",
    "    # over 20, or n, hidden layers, it will sum to a large number. We will want to normalize it by\n",
    "    # dividing by n_hidden\n",
    "    \n",
    "    # n_hidden is the numer of column vectors of coefficients that we will use to multiply by in our matrix multiplication\n",
    "    \n",
    "    # For layer 2 explaination, see video lesson 5, timestamp: 1:05:00, https://www.youtube.com/watch?v=_rXzeWq4C6w&list=PLfYUBJiXbdtSvpQjSnJJ_PmDQB_VyT5iU\n",
    "    layer2 = torch.rand(n_hidden, 1)-0.3\n",
    "    # For the 0.3 constant, when done by hand, things are more fidley. This is a contant that just has to be played with\n",
    "    # until it starts to get a good result\n",
    "    const = torch.rand(1)[0]\n",
    "    return layer1.requires_grad_(),layer2.requires_grad_(),const.requires_grad_()"
   ]
  },
  {
   "cell_type": "markdown",
   "id": "6b9e70cb",
   "metadata": {
    "papermill": {
     "duration": 0.119715,
     "end_time": "2022-09-07T20:38:33.747671",
     "exception": false,
     "start_time": "2022-09-07T20:38:33.627956",
     "status": "completed"
    },
    "tags": []
   },
   "source": [
    "Now we have our coefficients, we can create our neural net. The key steps are the two matrix products, `indeps@l1` and `res@l2` (where `res` is the output of the first layer). The first layer output is passed to `F.relu` (that's our non-linearity), and the second is passed to `torch.sigmoid` as before."
   ]
  },
  {
   "cell_type": "code",
   "execution_count": 71,
   "id": "38c02779",
   "metadata": {
    "execution": {
     "iopub.execute_input": "2022-09-07T20:38:33.987422Z",
     "iopub.status.busy": "2022-09-07T20:38:33.986642Z",
     "iopub.status.idle": "2022-09-07T20:38:33.991698Z",
     "shell.execute_reply": "2022-09-07T20:38:33.990994Z"
    },
    "papermill": {
     "duration": 0.126001,
     "end_time": "2022-09-07T20:38:33.993501",
     "exception": false,
     "start_time": "2022-09-07T20:38:33.867500",
     "status": "completed"
    },
    "tags": []
   },
   "outputs": [],
   "source": [
    "import torch.nn.functional as F\n",
    "\n",
    "def calculate_predictions(coeffs, indeps):\n",
    "    l1,l2,const = coeffs\n",
    "    res = F.relu(indeps@l1)\n",
    "    res = res@l2 + const\n",
    "    return torch.sigmoid(res)"
   ]
  },
  {
   "cell_type": "markdown",
   "id": "1508b638",
   "metadata": {
    "papermill": {
     "duration": 0.117896,
     "end_time": "2022-09-07T20:38:34.231746",
     "exception": false,
     "start_time": "2022-09-07T20:38:34.113850",
     "status": "completed"
    },
    "tags": []
   },
   "source": [
    "Finally, now that we have more than one set of coefficients, we need to add a loop to update each one:"
   ]
  },
  {
   "cell_type": "code",
   "execution_count": 72,
   "id": "6c70aec3",
   "metadata": {
    "execution": {
     "iopub.execute_input": "2022-09-07T20:38:34.469133Z",
     "iopub.status.busy": "2022-09-07T20:38:34.468838Z",
     "iopub.status.idle": "2022-09-07T20:38:34.472879Z",
     "shell.execute_reply": "2022-09-07T20:38:34.472212Z"
    },
    "papermill": {
     "duration": 0.125043,
     "end_time": "2022-09-07T20:38:34.474593",
     "exception": false,
     "start_time": "2022-09-07T20:38:34.349550",
     "status": "completed"
    },
    "tags": []
   },
   "outputs": [],
   "source": [
    "def update_coeffs(coeffs, lr):\n",
    "    for layer in coeffs:\n",
    "        layer.sub_(layer.grad * lr)\n",
    "        layer.grad.zero_()"
   ]
  },
  {
   "cell_type": "markdown",
   "id": "d8573c70",
   "metadata": {
    "papermill": {
     "duration": 0.117912,
     "end_time": "2022-09-07T20:38:34.711289",
     "exception": false,
     "start_time": "2022-09-07T20:38:34.593377",
     "status": "completed"
    },
    "tags": []
   },
   "source": [
    "That's it -- we're now ready to train our model!"
   ]
  },
  {
   "cell_type": "code",
   "execution_count": 73,
   "id": "c6b7ece5",
   "metadata": {
    "execution": {
     "iopub.execute_input": "2022-09-07T20:38:34.952221Z",
     "iopub.status.busy": "2022-09-07T20:38:34.951951Z",
     "iopub.status.idle": "2022-09-07T20:38:34.998352Z",
     "shell.execute_reply": "2022-09-07T20:38:34.997589Z"
    },
    "papermill": {
     "duration": 0.170179,
     "end_time": "2022-09-07T20:38:35.000246",
     "exception": false,
     "start_time": "2022-09-07T20:38:34.830067",
     "status": "completed"
    },
    "tags": []
   },
   "outputs": [
    {
     "name": "stdout",
     "output_type": "stream",
     "text": [
      "0.543; 0.532; 0.520; 0.505; 0.487; 0.466; 0.439; 0.407; 0.373; 0.343; 0.319; 0.301; 0.286; 0.274; 0.264; 0.256; 0.250; 0.245; 0.240; 0.237; 0.234; 0.231; 0.229; 0.227; 0.226; 0.224; 0.223; 0.222; 0.221; 0.220; "
     ]
    }
   ],
   "source": [
    "coeffs = train_model(lr=1.4)"
   ]
  },
  {
   "cell_type": "markdown",
   "id": "b69ba274",
   "metadata": {
    "papermill": {
     "duration": 0.118889,
     "end_time": "2022-09-07T20:38:35.239806",
     "exception": false,
     "start_time": "2022-09-07T20:38:35.120917",
     "status": "completed"
    },
    "tags": []
   },
   "source": [
    "It's looking good -- our loss is lower than before. Let's see if that translates to a better result on the validation set:"
   ]
  },
  {
   "cell_type": "code",
   "execution_count": 74,
   "id": "b7825cab",
   "metadata": {
    "execution": {
     "iopub.execute_input": "2022-09-07T20:38:35.478801Z",
     "iopub.status.busy": "2022-09-07T20:38:35.478531Z",
     "iopub.status.idle": "2022-09-07T20:38:35.484874Z",
     "shell.execute_reply": "2022-09-07T20:38:35.484134Z"
    },
    "papermill": {
     "duration": 0.129168,
     "end_time": "2022-09-07T20:38:35.486674",
     "exception": false,
     "start_time": "2022-09-07T20:38:35.357506",
     "status": "completed"
    },
    "tags": []
   },
   "outputs": [
    {
     "data": {
      "text/plain": [
       "tensor(0.7921)"
      ]
     },
     "execution_count": 74,
     "metadata": {},
     "output_type": "execute_result"
    }
   ],
   "source": [
    "acc(coeffs)"
   ]
  },
  {
   "cell_type": "markdown",
   "id": "9ed9f03b",
   "metadata": {
    "papermill": {
     "duration": 0.119777,
     "end_time": "2022-09-07T20:38:35.732051",
     "exception": false,
     "start_time": "2022-09-07T20:38:35.612274",
     "status": "completed"
    },
    "tags": []
   },
   "source": [
    "In this case our neural net isn't showing better results than the linear model. That's not surprising; this dataset is very small and very simple, and isn't the kind of thing we'd expect to see neural networks excel at. Furthermore, our validation set is too small to reliably see much accuracy difference. But the key thing is that we now know exactly what a real neural net looks like!"
   ]
  },
  {
   "cell_type": "markdown",
   "id": "5ad40170",
   "metadata": {
    "papermill": {
     "duration": 0.119496,
     "end_time": "2022-09-07T20:38:35.971038",
     "exception": false,
     "start_time": "2022-09-07T20:38:35.851542",
     "status": "completed"
    },
    "tags": []
   },
   "source": [
    "## Deep learning"
   ]
  },
  {
   "cell_type": "markdown",
   "id": "5b131207",
   "metadata": {
    "papermill": {
     "duration": 0.119376,
     "end_time": "2022-09-07T20:38:36.210663",
     "exception": false,
     "start_time": "2022-09-07T20:38:36.091287",
     "status": "completed"
    },
    "tags": []
   },
   "source": [
    "The neural net in the previous section only uses one hidden layer, so it doesn't count as \"deep\" learning. But we can use the exact same technique to make our neural net deep, by adding more matrix multiplications.\n",
    "\n",
    "First, we'll need to create additional coefficients for each layer:"
   ]
  },
  {
   "cell_type": "code",
   "execution_count": 75,
   "id": "396c428f",
   "metadata": {
    "execution": {
     "iopub.execute_input": "2022-09-07T20:38:36.449669Z",
     "iopub.status.busy": "2022-09-07T20:38:36.449405Z",
     "iopub.status.idle": "2022-09-07T20:38:36.455341Z",
     "shell.execute_reply": "2022-09-07T20:38:36.454643Z"
    },
    "papermill": {
     "duration": 0.127415,
     "end_time": "2022-09-07T20:38:36.457041",
     "exception": false,
     "start_time": "2022-09-07T20:38:36.329626",
     "status": "completed"
    },
    "tags": []
   },
   "outputs": [],
   "source": [
    "def init_coeffs():\n",
    "    hiddens = [10, 10]  # <-- Two hidden layers, 10 activations (aka 10 column vectors of coefficents) in each. The\n",
    "                        # len of hiddens is the number of Epochs.\n",
    "                        # Each number in this array is: one round (epoch) of matrix multiplication where we are multiplying the\n",
    "                        # matrix of coefficients (each column vector is one set of coefficients, aka one activation)\n",
    "                        # and each number in the array, is the length (n_hidden) of the matrix we make with n_coeff by n_hidden\n",
    "                        # matrix we make, it can be an arbitrary size\n",
    "    sizes = [n_coeff] + hiddens + [1] # Sizes of each layer, first will go from n_coeffs to 10, second layer will go from 10 to 10, third will go from 10 to 1.\n",
    "    n = len(sizes)\n",
    "    layers = [(torch.rand(sizes[i], sizes[i+1])-0.3)/sizes[i+1]*4 for i in range(n-1)]\n",
    "    consts = [(torch.rand(1)[0]-0.5)*0.1 for i in range(n-1)]\n",
    "    for l in layers+consts: l.requires_grad_()\n",
    "    return layers,consts"
   ]
  },
  {
   "cell_type": "markdown",
   "id": "55a6bafc",
   "metadata": {
    "papermill": {
     "duration": 0.224588,
     "end_time": "2022-09-07T20:38:36.885752",
     "exception": false,
     "start_time": "2022-09-07T20:38:36.661164",
     "status": "completed"
    },
    "tags": []
   },
   "source": [
    "The term \"hidden layers\" and \"layer\" both seem to be used for a couple purposes:\n",
    "\n",
    "Layer:\n",
    "- Each individual activation\n",
    "- Each individual epoch\n",
    "\n",
    "Hidden Layers:\n",
    "- The number of activations in each layer\n",
    "- The number of epochs"
   ]
  },
  {
   "cell_type": "markdown",
   "id": "386dea7e",
   "metadata": {
    "papermill": {
     "duration": 0.136339,
     "end_time": "2022-09-07T20:38:37.204204",
     "exception": false,
     "start_time": "2022-09-07T20:38:37.067865",
     "status": "completed"
    },
    "tags": []
   },
   "source": [
    "You'll notice here that there's a lot of messy constants to get the random numbers in just the right ranges. When you train the model in a moment, you'll see that the tiniest changes to these initialisations can cause our model to fail to train at all! This is a key reason that deep learning failed to make much progress in the early days -- it's very finicky to get a good starting point for our coefficients. Nowadays, we have ways to deal with that, which we'll learn about in other notebooks.\n",
    "\n",
    "Our deep learning `calculate_predictions` looks much the same as before, but now we loop through each layer, instead of listing them separately:"
   ]
  },
  {
   "cell_type": "code",
   "execution_count": 76,
   "id": "ee46255d",
   "metadata": {
    "execution": {
     "iopub.execute_input": "2022-09-07T20:38:37.443712Z",
     "iopub.status.busy": "2022-09-07T20:38:37.443441Z",
     "iopub.status.idle": "2022-09-07T20:38:37.448519Z",
     "shell.execute_reply": "2022-09-07T20:38:37.447807Z"
    },
    "papermill": {
     "duration": 0.127141,
     "end_time": "2022-09-07T20:38:37.450273",
     "exception": false,
     "start_time": "2022-09-07T20:38:37.323132",
     "status": "completed"
    },
    "tags": []
   },
   "outputs": [],
   "source": [
    "import torch.nn.functional as F\n",
    "\n",
    "def calculate_predictions(coeffs, indeps):\n",
    "    layers,consts = coeffs\n",
    "    n = len(layers)\n",
    "    res = indeps\n",
    "    for i,l in enumerate(layers):\n",
    "        res = res@l + consts[i]\n",
    "        if i!=n-1: res = F.relu(res)\n",
    "    return torch.sigmoid(res)"
   ]
  },
  {
   "cell_type": "markdown",
   "id": "789aa1b0",
   "metadata": {
    "papermill": {
     "duration": 0.119511,
     "end_time": "2022-09-07T20:38:37.688090",
     "exception": false,
     "start_time": "2022-09-07T20:38:37.568579",
     "status": "completed"
    },
    "tags": []
   },
   "source": [
    "We also need a minor update to `update_coeffs` since we've got `layers` and `consts` separated now:"
   ]
  },
  {
   "cell_type": "code",
   "execution_count": 77,
   "id": "e63dd694",
   "metadata": {
    "execution": {
     "iopub.execute_input": "2022-09-07T20:38:37.928214Z",
     "iopub.status.busy": "2022-09-07T20:38:37.927911Z",
     "iopub.status.idle": "2022-09-07T20:38:37.932169Z",
     "shell.execute_reply": "2022-09-07T20:38:37.931473Z"
    },
    "papermill": {
     "duration": 0.128607,
     "end_time": "2022-09-07T20:38:37.933905",
     "exception": false,
     "start_time": "2022-09-07T20:38:37.805298",
     "status": "completed"
    },
    "tags": []
   },
   "outputs": [],
   "source": [
    "def update_coeffs(coeffs, lr):\n",
    "    layers,consts = coeffs\n",
    "    for layer in layers+consts:\n",
    "        layer.sub_(layer.grad * lr)\n",
    "        layer.grad.zero_()"
   ]
  },
  {
   "cell_type": "markdown",
   "id": "2c67ead6",
   "metadata": {
    "papermill": {
     "duration": 0.119293,
     "end_time": "2022-09-07T20:38:38.172206",
     "exception": false,
     "start_time": "2022-09-07T20:38:38.052913",
     "status": "completed"
    },
    "tags": []
   },
   "source": [
    "Let's train our model..."
   ]
  },
  {
   "cell_type": "code",
   "execution_count": 78,
   "id": "e21f0ec2",
   "metadata": {
    "execution": {
     "iopub.execute_input": "2022-09-07T20:38:38.410475Z",
     "iopub.status.busy": "2022-09-07T20:38:38.410171Z",
     "iopub.status.idle": "2022-09-07T20:38:38.443230Z",
     "shell.execute_reply": "2022-09-07T20:38:38.442542Z"
    },
    "papermill": {
     "duration": 0.15392,
     "end_time": "2022-09-07T20:38:38.444972",
     "exception": false,
     "start_time": "2022-09-07T20:38:38.291052",
     "status": "completed"
    },
    "tags": []
   },
   "outputs": [
    {
     "name": "stdout",
     "output_type": "stream",
     "text": [
      "0.521; 0.483; 0.427; 0.379; 0.379; 0.379; 0.379; 0.378; 0.378; 0.378; 0.378; 0.378; 0.378; 0.378; 0.378; 0.378; 0.377; 0.376; 0.371; 0.333; 0.239; 0.224; 0.208; 0.204; 0.203; 0.203; 0.207; 0.197; 0.196; 0.195; "
     ]
    }
   ],
   "source": [
    "coeffs = train_model(lr=4)"
   ]
  },
  {
   "cell_type": "markdown",
   "id": "8d0ba3b9",
   "metadata": {
    "papermill": {
     "duration": 0.119101,
     "end_time": "2022-09-07T20:38:38.684148",
     "exception": false,
     "start_time": "2022-09-07T20:38:38.565047",
     "status": "completed"
    },
    "tags": []
   },
   "source": [
    "...and check its accuracy:"
   ]
  },
  {
   "cell_type": "code",
   "execution_count": 79,
   "id": "fd307e0c",
   "metadata": {
    "execution": {
     "iopub.execute_input": "2022-09-07T20:38:38.923750Z",
     "iopub.status.busy": "2022-09-07T20:38:38.923475Z",
     "iopub.status.idle": "2022-09-07T20:38:38.930113Z",
     "shell.execute_reply": "2022-09-07T20:38:38.929357Z"
    },
    "papermill": {
     "duration": 0.128679,
     "end_time": "2022-09-07T20:38:38.931829",
     "exception": false,
     "start_time": "2022-09-07T20:38:38.803150",
     "status": "completed"
    },
    "tags": []
   },
   "outputs": [
    {
     "data": {
      "text/plain": [
       "tensor(0.8258)"
      ]
     },
     "execution_count": 79,
     "metadata": {},
     "output_type": "execute_result"
    }
   ],
   "source": [
    "acc(coeffs)"
   ]
  },
  {
   "cell_type": "markdown",
   "id": "35df587b",
   "metadata": {
    "papermill": {
     "duration": 0.122769,
     "end_time": "2022-09-07T20:38:39.175722",
     "exception": false,
     "start_time": "2022-09-07T20:38:39.052953",
     "status": "completed"
    },
    "tags": []
   },
   "source": [
    "## Final thoughts"
   ]
  },
  {
   "cell_type": "markdown",
   "id": "dc554838",
   "metadata": {
    "papermill": {
     "duration": 0.119254,
     "end_time": "2022-09-07T20:38:39.413688",
     "exception": false,
     "start_time": "2022-09-07T20:38:39.294434",
     "status": "completed"
    },
    "tags": []
   },
   "source": [
    "It's actually pretty cool that we've managed to create a real deep learning model from scratch and trained it to get over 80% accuracy on this task, all in the course of a single notebook!\n",
    "\n",
    "The \"real\" deep learning models that are used in research and industry look very similar to this, and in fact if you look inside the source code of any deep learning model you'll recognise the basic steps are the same.\n",
    "\n",
    "The biggest differences in practical models to what we have above are:\n",
    "\n",
    "- How initialization and normalization is done to ensure the model trains correctly every time\n",
    "- Regularization (to avoid over-fitting)\n",
    "- Modifying the neural net itself to take advantage of knowledge of the problem domain\n",
    "- Doing gradient descent steps on smaller batches, rather than the whole dataset."
   ]
  },
  {
   "cell_type": "markdown",
   "id": "cfcca1b0",
   "metadata": {
    "papermill": {
     "duration": 0.118304,
     "end_time": "2022-09-07T20:38:39.652470",
     "exception": false,
     "start_time": "2022-09-07T20:38:39.534166",
     "status": "completed"
    },
    "tags": []
   },
   "source": [
    "The neural net and deep learning models didn't make much of a difference. This was because this data was small and tabular.\n",
    "Generally, you can chuck a deep learning model at image and NLP problems and get a great result. But tabular data isn't so easy.\n",
    "Pre-trained models don't exist for tabular data because they are all unique (some do exist however) and you have to think about\n",
    "the feature engineering for the data, a lot more."
   ]
  }
 ],
 "metadata": {
  "kernelspec": {
   "display_name": "Python 3",
   "language": "python",
   "name": "python3"
  },
  "language_info": {
   "codemirror_mode": {
    "name": "ipython",
    "version": 3
   },
   "file_extension": ".py",
   "mimetype": "text/x-python",
   "name": "python",
   "nbconvert_exporter": "python",
   "pygments_lexer": "ipython3",
   "version": "3.7.12"
  },
  "papermill": {
   "default_parameters": {},
   "duration": 57.867574,
   "end_time": "2022-09-07T20:38:40.894709",
   "environment_variables": {},
   "exception": null,
   "input_path": "__notebook__.ipynb",
   "output_path": "__notebook__.ipynb",
   "parameters": {},
   "start_time": "2022-09-07T20:37:43.027135",
   "version": "2.3.4"
  }
 },
 "nbformat": 4,
 "nbformat_minor": 5
}
